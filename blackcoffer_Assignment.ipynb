{
  "nbformat": 4,
  "nbformat_minor": 0,
  "metadata": {
    "colab": {
      "provenance": [],
      "authorship_tag": "ABX9TyOeqOCkS7lnPRgEz55H/+Ys",
      "include_colab_link": true
    },
    "kernelspec": {
      "name": "python3",
      "display_name": "Python 3"
    },
    "language_info": {
      "name": "python"
    }
  },
  "cells": [
    {
      "cell_type": "markdown",
      "metadata": {
        "id": "view-in-github",
        "colab_type": "text"
      },
      "source": [
        "<a href=\"https://colab.research.google.com/github/goruu007/Blackcoffer-test-assignment/blob/main/blackcoffer_Assignment.ipynb\" target=\"_parent\"><img src=\"https://colab.research.google.com/assets/colab-badge.svg\" alt=\"Open In Colab\"/></a>"
      ]
    },
    {
      "cell_type": "code",
      "execution_count": 1,
      "metadata": {
        "colab": {
          "base_uri": "https://localhost:8080/"
        },
        "id": "PCjwijC6jnkP",
        "outputId": "35f97a3b-dc63-4c1f-a364-e144596823a1"
      },
      "outputs": [
        {
          "output_type": "stream",
          "name": "stderr",
          "text": [
            "[nltk_data] Downloading package punkt to /root/nltk_data...\n",
            "[nltk_data]   Unzipping tokenizers/punkt.zip.\n"
          ]
        },
        {
          "output_type": "execute_result",
          "data": {
            "text/plain": [
              "True"
            ]
          },
          "metadata": {},
          "execution_count": 1
        }
      ],
      "source": [
        "#importing library\n",
        "import pandas as pd\n",
        "import requests\n",
        "from bs4 import BeautifulSoup\n",
        "import numpy as np\n",
        "from google.colab import files\n",
        "import nltk\n",
        "import string\n",
        "nltk.download('punkt')\n",
        ""
      ]
    },
    {
      "cell_type": "code",
      "source": [
        "from google.colab import drive\n",
        "drive.mount('/content/drive')"
      ],
      "metadata": {
        "colab": {
          "base_uri": "https://localhost:8080/"
        },
        "id": "BBO6CXBqj2ye",
        "outputId": "828ea3c6-a008-418a-dbe0-782ddc22f55f"
      },
      "execution_count": 3,
      "outputs": [
        {
          "output_type": "stream",
          "name": "stdout",
          "text": [
            "Mounted at /content/drive\n"
          ]
        }
      ]
    },
    {
      "cell_type": "code",
      "source": [
        "df=pd.read_csv('/content/drive/MyDrive/output.csv')[['URL_ID','URL']]\n"
      ],
      "metadata": {
        "id": "NKIKwe24kmGB"
      },
      "execution_count": 33,
      "outputs": []
    },
    {
      "cell_type": "code",
      "source": [
        "df=df.iloc[0:150]"
      ],
      "metadata": {
        "id": "BWsXA-y9vN6v"
      },
      "execution_count": 20,
      "outputs": []
    },
    {
      "cell_type": "code",
      "source": [
        "df"
      ],
      "metadata": {
        "colab": {
          "base_uri": "https://localhost:8080/",
          "height": 423
        },
        "id": "gdJksCRevR_m",
        "outputId": "d0892bd7-f693-409c-e2de-2751b5e29c34"
      },
      "execution_count": 21,
      "outputs": [
        {
          "output_type": "execute_result",
          "data": {
            "text/plain": [
              "         URL_ID                                                URL\n",
              "0    bctech2011  https://insights.blackcoffer.com/ml-and-ai-bas...\n",
              "1    bctech2012  https://insights.blackcoffer.com/streamlined-i...\n",
              "2    bctech2013  https://insights.blackcoffer.com/efficient-dat...\n",
              "3    bctech2014  https://insights.blackcoffer.com/effective-man...\n",
              "4    bctech2015  https://insights.blackcoffer.com/streamlined-t...\n",
              "..          ...                                                ...\n",
              "142  bctech2153  https://insights.blackcoffer.com/population-an...\n",
              "143  bctech2154  https://insights.blackcoffer.com/google-lsa-ap...\n",
              "144  bctech2155  https://insights.blackcoffer.com/healthcare-da...\n",
              "145  bctech2156  https://insights.blackcoffer.com/budget-sales-...\n",
              "146  bctech2157  https://insights.blackcoffer.com/amazon-buy-bo...\n",
              "\n",
              "[147 rows x 2 columns]"
            ],
            "text/html": [
              "\n",
              "  <div id=\"df-6cfee23a-fb30-4b44-8900-c694fa088f37\" class=\"colab-df-container\">\n",
              "    <div>\n",
              "<style scoped>\n",
              "    .dataframe tbody tr th:only-of-type {\n",
              "        vertical-align: middle;\n",
              "    }\n",
              "\n",
              "    .dataframe tbody tr th {\n",
              "        vertical-align: top;\n",
              "    }\n",
              "\n",
              "    .dataframe thead th {\n",
              "        text-align: right;\n",
              "    }\n",
              "</style>\n",
              "<table border=\"1\" class=\"dataframe\">\n",
              "  <thead>\n",
              "    <tr style=\"text-align: right;\">\n",
              "      <th></th>\n",
              "      <th>URL_ID</th>\n",
              "      <th>URL</th>\n",
              "    </tr>\n",
              "  </thead>\n",
              "  <tbody>\n",
              "    <tr>\n",
              "      <th>0</th>\n",
              "      <td>bctech2011</td>\n",
              "      <td>https://insights.blackcoffer.com/ml-and-ai-bas...</td>\n",
              "    </tr>\n",
              "    <tr>\n",
              "      <th>1</th>\n",
              "      <td>bctech2012</td>\n",
              "      <td>https://insights.blackcoffer.com/streamlined-i...</td>\n",
              "    </tr>\n",
              "    <tr>\n",
              "      <th>2</th>\n",
              "      <td>bctech2013</td>\n",
              "      <td>https://insights.blackcoffer.com/efficient-dat...</td>\n",
              "    </tr>\n",
              "    <tr>\n",
              "      <th>3</th>\n",
              "      <td>bctech2014</td>\n",
              "      <td>https://insights.blackcoffer.com/effective-man...</td>\n",
              "    </tr>\n",
              "    <tr>\n",
              "      <th>4</th>\n",
              "      <td>bctech2015</td>\n",
              "      <td>https://insights.blackcoffer.com/streamlined-t...</td>\n",
              "    </tr>\n",
              "    <tr>\n",
              "      <th>...</th>\n",
              "      <td>...</td>\n",
              "      <td>...</td>\n",
              "    </tr>\n",
              "    <tr>\n",
              "      <th>142</th>\n",
              "      <td>bctech2153</td>\n",
              "      <td>https://insights.blackcoffer.com/population-an...</td>\n",
              "    </tr>\n",
              "    <tr>\n",
              "      <th>143</th>\n",
              "      <td>bctech2154</td>\n",
              "      <td>https://insights.blackcoffer.com/google-lsa-ap...</td>\n",
              "    </tr>\n",
              "    <tr>\n",
              "      <th>144</th>\n",
              "      <td>bctech2155</td>\n",
              "      <td>https://insights.blackcoffer.com/healthcare-da...</td>\n",
              "    </tr>\n",
              "    <tr>\n",
              "      <th>145</th>\n",
              "      <td>bctech2156</td>\n",
              "      <td>https://insights.blackcoffer.com/budget-sales-...</td>\n",
              "    </tr>\n",
              "    <tr>\n",
              "      <th>146</th>\n",
              "      <td>bctech2157</td>\n",
              "      <td>https://insights.blackcoffer.com/amazon-buy-bo...</td>\n",
              "    </tr>\n",
              "  </tbody>\n",
              "</table>\n",
              "<p>147 rows × 2 columns</p>\n",
              "</div>\n",
              "    <div class=\"colab-df-buttons\">\n",
              "\n",
              "  <div class=\"colab-df-container\">\n",
              "    <button class=\"colab-df-convert\" onclick=\"convertToInteractive('df-6cfee23a-fb30-4b44-8900-c694fa088f37')\"\n",
              "            title=\"Convert this dataframe to an interactive table.\"\n",
              "            style=\"display:none;\">\n",
              "\n",
              "  <svg xmlns=\"http://www.w3.org/2000/svg\" height=\"24px\" viewBox=\"0 -960 960 960\">\n",
              "    <path d=\"M120-120v-720h720v720H120Zm60-500h600v-160H180v160Zm220 220h160v-160H400v160Zm0 220h160v-160H400v160ZM180-400h160v-160H180v160Zm440 0h160v-160H620v160ZM180-180h160v-160H180v160Zm440 0h160v-160H620v160Z\"/>\n",
              "  </svg>\n",
              "    </button>\n",
              "\n",
              "  <style>\n",
              "    .colab-df-container {\n",
              "      display:flex;\n",
              "      gap: 12px;\n",
              "    }\n",
              "\n",
              "    .colab-df-convert {\n",
              "      background-color: #E8F0FE;\n",
              "      border: none;\n",
              "      border-radius: 50%;\n",
              "      cursor: pointer;\n",
              "      display: none;\n",
              "      fill: #1967D2;\n",
              "      height: 32px;\n",
              "      padding: 0 0 0 0;\n",
              "      width: 32px;\n",
              "    }\n",
              "\n",
              "    .colab-df-convert:hover {\n",
              "      background-color: #E2EBFA;\n",
              "      box-shadow: 0px 1px 2px rgba(60, 64, 67, 0.3), 0px 1px 3px 1px rgba(60, 64, 67, 0.15);\n",
              "      fill: #174EA6;\n",
              "    }\n",
              "\n",
              "    .colab-df-buttons div {\n",
              "      margin-bottom: 4px;\n",
              "    }\n",
              "\n",
              "    [theme=dark] .colab-df-convert {\n",
              "      background-color: #3B4455;\n",
              "      fill: #D2E3FC;\n",
              "    }\n",
              "\n",
              "    [theme=dark] .colab-df-convert:hover {\n",
              "      background-color: #434B5C;\n",
              "      box-shadow: 0px 1px 3px 1px rgba(0, 0, 0, 0.15);\n",
              "      filter: drop-shadow(0px 1px 2px rgba(0, 0, 0, 0.3));\n",
              "      fill: #FFFFFF;\n",
              "    }\n",
              "  </style>\n",
              "\n",
              "    <script>\n",
              "      const buttonEl =\n",
              "        document.querySelector('#df-6cfee23a-fb30-4b44-8900-c694fa088f37 button.colab-df-convert');\n",
              "      buttonEl.style.display =\n",
              "        google.colab.kernel.accessAllowed ? 'block' : 'none';\n",
              "\n",
              "      async function convertToInteractive(key) {\n",
              "        const element = document.querySelector('#df-6cfee23a-fb30-4b44-8900-c694fa088f37');\n",
              "        const dataTable =\n",
              "          await google.colab.kernel.invokeFunction('convertToInteractive',\n",
              "                                                    [key], {});\n",
              "        if (!dataTable) return;\n",
              "\n",
              "        const docLinkHtml = 'Like what you see? Visit the ' +\n",
              "          '<a target=\"_blank\" href=https://colab.research.google.com/notebooks/data_table.ipynb>data table notebook</a>'\n",
              "          + ' to learn more about interactive tables.';\n",
              "        element.innerHTML = '';\n",
              "        dataTable['output_type'] = 'display_data';\n",
              "        await google.colab.output.renderOutput(dataTable, element);\n",
              "        const docLink = document.createElement('div');\n",
              "        docLink.innerHTML = docLinkHtml;\n",
              "        element.appendChild(docLink);\n",
              "      }\n",
              "    </script>\n",
              "  </div>\n",
              "\n",
              "\n",
              "<div id=\"df-402de128-89bd-4b90-800e-3060d16f66d8\">\n",
              "  <button class=\"colab-df-quickchart\" onclick=\"quickchart('df-402de128-89bd-4b90-800e-3060d16f66d8')\"\n",
              "            title=\"Suggest charts\"\n",
              "            style=\"display:none;\">\n",
              "\n",
              "<svg xmlns=\"http://www.w3.org/2000/svg\" height=\"24px\"viewBox=\"0 0 24 24\"\n",
              "     width=\"24px\">\n",
              "    <g>\n",
              "        <path d=\"M19 3H5c-1.1 0-2 .9-2 2v14c0 1.1.9 2 2 2h14c1.1 0 2-.9 2-2V5c0-1.1-.9-2-2-2zM9 17H7v-7h2v7zm4 0h-2V7h2v10zm4 0h-2v-4h2v4z\"/>\n",
              "    </g>\n",
              "</svg>\n",
              "  </button>\n",
              "\n",
              "<style>\n",
              "  .colab-df-quickchart {\n",
              "      --bg-color: #E8F0FE;\n",
              "      --fill-color: #1967D2;\n",
              "      --hover-bg-color: #E2EBFA;\n",
              "      --hover-fill-color: #174EA6;\n",
              "      --disabled-fill-color: #AAA;\n",
              "      --disabled-bg-color: #DDD;\n",
              "  }\n",
              "\n",
              "  [theme=dark] .colab-df-quickchart {\n",
              "      --bg-color: #3B4455;\n",
              "      --fill-color: #D2E3FC;\n",
              "      --hover-bg-color: #434B5C;\n",
              "      --hover-fill-color: #FFFFFF;\n",
              "      --disabled-bg-color: #3B4455;\n",
              "      --disabled-fill-color: #666;\n",
              "  }\n",
              "\n",
              "  .colab-df-quickchart {\n",
              "    background-color: var(--bg-color);\n",
              "    border: none;\n",
              "    border-radius: 50%;\n",
              "    cursor: pointer;\n",
              "    display: none;\n",
              "    fill: var(--fill-color);\n",
              "    height: 32px;\n",
              "    padding: 0;\n",
              "    width: 32px;\n",
              "  }\n",
              "\n",
              "  .colab-df-quickchart:hover {\n",
              "    background-color: var(--hover-bg-color);\n",
              "    box-shadow: 0 1px 2px rgba(60, 64, 67, 0.3), 0 1px 3px 1px rgba(60, 64, 67, 0.15);\n",
              "    fill: var(--button-hover-fill-color);\n",
              "  }\n",
              "\n",
              "  .colab-df-quickchart-complete:disabled,\n",
              "  .colab-df-quickchart-complete:disabled:hover {\n",
              "    background-color: var(--disabled-bg-color);\n",
              "    fill: var(--disabled-fill-color);\n",
              "    box-shadow: none;\n",
              "  }\n",
              "\n",
              "  .colab-df-spinner {\n",
              "    border: 2px solid var(--fill-color);\n",
              "    border-color: transparent;\n",
              "    border-bottom-color: var(--fill-color);\n",
              "    animation:\n",
              "      spin 1s steps(1) infinite;\n",
              "  }\n",
              "\n",
              "  @keyframes spin {\n",
              "    0% {\n",
              "      border-color: transparent;\n",
              "      border-bottom-color: var(--fill-color);\n",
              "      border-left-color: var(--fill-color);\n",
              "    }\n",
              "    20% {\n",
              "      border-color: transparent;\n",
              "      border-left-color: var(--fill-color);\n",
              "      border-top-color: var(--fill-color);\n",
              "    }\n",
              "    30% {\n",
              "      border-color: transparent;\n",
              "      border-left-color: var(--fill-color);\n",
              "      border-top-color: var(--fill-color);\n",
              "      border-right-color: var(--fill-color);\n",
              "    }\n",
              "    40% {\n",
              "      border-color: transparent;\n",
              "      border-right-color: var(--fill-color);\n",
              "      border-top-color: var(--fill-color);\n",
              "    }\n",
              "    60% {\n",
              "      border-color: transparent;\n",
              "      border-right-color: var(--fill-color);\n",
              "    }\n",
              "    80% {\n",
              "      border-color: transparent;\n",
              "      border-right-color: var(--fill-color);\n",
              "      border-bottom-color: var(--fill-color);\n",
              "    }\n",
              "    90% {\n",
              "      border-color: transparent;\n",
              "      border-bottom-color: var(--fill-color);\n",
              "    }\n",
              "  }\n",
              "</style>\n",
              "\n",
              "  <script>\n",
              "    async function quickchart(key) {\n",
              "      const quickchartButtonEl =\n",
              "        document.querySelector('#' + key + ' button');\n",
              "      quickchartButtonEl.disabled = true;  // To prevent multiple clicks.\n",
              "      quickchartButtonEl.classList.add('colab-df-spinner');\n",
              "      try {\n",
              "        const charts = await google.colab.kernel.invokeFunction(\n",
              "            'suggestCharts', [key], {});\n",
              "      } catch (error) {\n",
              "        console.error('Error during call to suggestCharts:', error);\n",
              "      }\n",
              "      quickchartButtonEl.classList.remove('colab-df-spinner');\n",
              "      quickchartButtonEl.classList.add('colab-df-quickchart-complete');\n",
              "    }\n",
              "    (() => {\n",
              "      let quickchartButtonEl =\n",
              "        document.querySelector('#df-402de128-89bd-4b90-800e-3060d16f66d8 button');\n",
              "      quickchartButtonEl.style.display =\n",
              "        google.colab.kernel.accessAllowed ? 'block' : 'none';\n",
              "    })();\n",
              "  </script>\n",
              "</div>\n",
              "\n",
              "  <div id=\"id_78bc6bd0-375e-42e5-8c11-096d3e542d81\">\n",
              "    <style>\n",
              "      .colab-df-generate {\n",
              "        background-color: #E8F0FE;\n",
              "        border: none;\n",
              "        border-radius: 50%;\n",
              "        cursor: pointer;\n",
              "        display: none;\n",
              "        fill: #1967D2;\n",
              "        height: 32px;\n",
              "        padding: 0 0 0 0;\n",
              "        width: 32px;\n",
              "      }\n",
              "\n",
              "      .colab-df-generate:hover {\n",
              "        background-color: #E2EBFA;\n",
              "        box-shadow: 0px 1px 2px rgba(60, 64, 67, 0.3), 0px 1px 3px 1px rgba(60, 64, 67, 0.15);\n",
              "        fill: #174EA6;\n",
              "      }\n",
              "\n",
              "      [theme=dark] .colab-df-generate {\n",
              "        background-color: #3B4455;\n",
              "        fill: #D2E3FC;\n",
              "      }\n",
              "\n",
              "      [theme=dark] .colab-df-generate:hover {\n",
              "        background-color: #434B5C;\n",
              "        box-shadow: 0px 1px 3px 1px rgba(0, 0, 0, 0.15);\n",
              "        filter: drop-shadow(0px 1px 2px rgba(0, 0, 0, 0.3));\n",
              "        fill: #FFFFFF;\n",
              "      }\n",
              "    </style>\n",
              "    <button class=\"colab-df-generate\" onclick=\"generateWithVariable('df')\"\n",
              "            title=\"Generate code using this dataframe.\"\n",
              "            style=\"display:none;\">\n",
              "\n",
              "  <svg xmlns=\"http://www.w3.org/2000/svg\" height=\"24px\"viewBox=\"0 0 24 24\"\n",
              "       width=\"24px\">\n",
              "    <path d=\"M7,19H8.4L18.45,9,17,7.55,7,17.6ZM5,21V16.75L18.45,3.32a2,2,0,0,1,2.83,0l1.4,1.43a1.91,1.91,0,0,1,.58,1.4,1.91,1.91,0,0,1-.58,1.4L9.25,21ZM18.45,9,17,7.55Zm-12,3A5.31,5.31,0,0,0,4.9,8.1,5.31,5.31,0,0,0,1,6.5,5.31,5.31,0,0,0,4.9,4.9,5.31,5.31,0,0,0,6.5,1,5.31,5.31,0,0,0,8.1,4.9,5.31,5.31,0,0,0,12,6.5,5.46,5.46,0,0,0,6.5,12Z\"/>\n",
              "  </svg>\n",
              "    </button>\n",
              "    <script>\n",
              "      (() => {\n",
              "      const buttonEl =\n",
              "        document.querySelector('#id_78bc6bd0-375e-42e5-8c11-096d3e542d81 button.colab-df-generate');\n",
              "      buttonEl.style.display =\n",
              "        google.colab.kernel.accessAllowed ? 'block' : 'none';\n",
              "\n",
              "      buttonEl.onclick = () => {\n",
              "        google.colab.notebook.generateWithVariable('df');\n",
              "      }\n",
              "      })();\n",
              "    </script>\n",
              "  </div>\n",
              "\n",
              "    </div>\n",
              "  </div>\n"
            ],
            "application/vnd.google.colaboratory.intrinsic+json": {
              "type": "dataframe",
              "variable_name": "df",
              "summary": "{\n  \"name\": \"df\",\n  \"rows\": 147,\n  \"fields\": [\n    {\n      \"column\": \"URL_ID\",\n      \"properties\": {\n        \"dtype\": \"string\",\n        \"num_unique_values\": 147,\n        \"samples\": [\n          \"bctech2136\",\n          \"bctech2062\",\n          \"bctech2149\"\n        ],\n        \"semantic_type\": \"\",\n        \"description\": \"\"\n      }\n    },\n    {\n      \"column\": \"URL\",\n      \"properties\": {\n        \"dtype\": \"string\",\n        \"num_unique_values\": 147,\n        \"samples\": [\n          \"https://insights.blackcoffer.com/lipsync-automation-for-celebrities-and-influencers/\",\n          \"https://insights.blackcoffer.com/an-etl-solution-for-an-internet-publishing-firm/\",\n          \"https://insights.blackcoffer.com/data-etl-local-service-ads-leads-to-bigquery/\"\n        ],\n        \"semantic_type\": \"\",\n        \"description\": \"\"\n      }\n    }\n  ]\n}"
            }
          },
          "metadata": {},
          "execution_count": 21
        }
      ]
    },
    {
      "cell_type": "code",
      "source": [
        "df.drop('URL_ID',axis=1,inplace=True)"
      ],
      "metadata": {
        "id": "IWcdLbiIvbjN"
      },
      "execution_count": 22,
      "outputs": []
    },
    {
      "cell_type": "markdown",
      "source": [
        "### **Data extraction**"
      ],
      "metadata": {
        "id": "HLNVfL12vhx1"
      }
    },
    {
      "cell_type": "code",
      "source": [
        "import pandas as pd\n",
        "import requests\n",
        "from bs4 import BeautifulSoup\n",
        "import os\n",
        "\n",
        "# Create an output directory if it doesn't exist\n",
        "output_dir = 'output'\n",
        "if not os.path.exists(output_dir):\n",
        "    os.makedirs(output_dir)\n",
        "\n",
        "# Load the input Excel file\n",
        "df = pd.read_excel('/content/drive/MyDrive/Input.xlsx')\n",
        "\n",
        "# Iterate over each row in the Excel file\n",
        "for index, row in df.iterrows():\n",
        "    url_id = row['URL_ID']\n",
        "    url = row['URL']\n",
        "\n",
        "    # Send a GET request to the URL\n",
        "    response = requests.get(url)\n",
        "\n",
        "    # Parse the HTML content using BeautifulSoup\n",
        "    soup = BeautifulSoup(response.content, 'html.parser')\n",
        "\n",
        "    # Extract the article title and text\n",
        "    title = soup.find('h1').text\n",
        "    article_text = ''\n",
        "    for p in soup.find_all('p'):\n",
        "        article_text += p.text + '\\n'\n",
        "\n",
        "    # Save the extracted text in a text file\n",
        "    file_path = os.path.join(output_dir, f'{url_id}.txt')\n",
        "    with open(file_path, 'w') as f:\n",
        "        f.write(title + '\\n' + article_text)"
      ],
      "metadata": {
        "colab": {
          "base_uri": "https://localhost:8080/",
          "height": 370
        },
        "collapsed": true,
        "id": "3wwhm8aRz-jk",
        "outputId": "024a7aae-46db-479c-c2de-d1bc95ae9ffb"
      },
      "execution_count": 45,
      "outputs": [
        {
          "output_type": "error",
          "ename": "FileNotFoundError",
          "evalue": "[Errno 2] No such file or directory: '/content/drive/MyDrive/Input.xlsx'",
          "traceback": [
            "\u001b[0;31m---------------------------------------------------------------------------\u001b[0m",
            "\u001b[0;31mFileNotFoundError\u001b[0m                         Traceback (most recent call last)",
            "\u001b[0;32m<ipython-input-45-c97a59031588>\u001b[0m in \u001b[0;36m<cell line: 12>\u001b[0;34m()\u001b[0m\n\u001b[1;32m     10\u001b[0m \u001b[0;34m\u001b[0m\u001b[0m\n\u001b[1;32m     11\u001b[0m \u001b[0;31m# Load the input Excel file\u001b[0m\u001b[0;34m\u001b[0m\u001b[0;34m\u001b[0m\u001b[0m\n\u001b[0;32m---> 12\u001b[0;31m \u001b[0mdf\u001b[0m \u001b[0;34m=\u001b[0m \u001b[0mpd\u001b[0m\u001b[0;34m.\u001b[0m\u001b[0mread_excel\u001b[0m\u001b[0;34m(\u001b[0m\u001b[0;34m'/content/drive/MyDrive/Input.xlsx'\u001b[0m\u001b[0;34m)\u001b[0m\u001b[0;34m\u001b[0m\u001b[0;34m\u001b[0m\u001b[0m\n\u001b[0m\u001b[1;32m     13\u001b[0m \u001b[0;34m\u001b[0m\u001b[0m\n\u001b[1;32m     14\u001b[0m \u001b[0;31m# Iterate over each row in the Excel file\u001b[0m\u001b[0;34m\u001b[0m\u001b[0;34m\u001b[0m\u001b[0m\n",
            "\u001b[0;32m/usr/local/lib/python3.10/dist-packages/pandas/io/excel/_base.py\u001b[0m in \u001b[0;36mread_excel\u001b[0;34m(io, sheet_name, header, names, index_col, usecols, dtype, engine, converters, true_values, false_values, skiprows, nrows, na_values, keep_default_na, na_filter, verbose, parse_dates, date_parser, date_format, thousands, decimal, comment, skipfooter, storage_options, dtype_backend)\u001b[0m\n\u001b[1;32m    476\u001b[0m     \u001b[0;32mif\u001b[0m \u001b[0;32mnot\u001b[0m \u001b[0misinstance\u001b[0m\u001b[0;34m(\u001b[0m\u001b[0mio\u001b[0m\u001b[0;34m,\u001b[0m \u001b[0mExcelFile\u001b[0m\u001b[0;34m)\u001b[0m\u001b[0;34m:\u001b[0m\u001b[0;34m\u001b[0m\u001b[0;34m\u001b[0m\u001b[0m\n\u001b[1;32m    477\u001b[0m         \u001b[0mshould_close\u001b[0m \u001b[0;34m=\u001b[0m \u001b[0;32mTrue\u001b[0m\u001b[0;34m\u001b[0m\u001b[0;34m\u001b[0m\u001b[0m\n\u001b[0;32m--> 478\u001b[0;31m         \u001b[0mio\u001b[0m \u001b[0;34m=\u001b[0m \u001b[0mExcelFile\u001b[0m\u001b[0;34m(\u001b[0m\u001b[0mio\u001b[0m\u001b[0;34m,\u001b[0m \u001b[0mstorage_options\u001b[0m\u001b[0;34m=\u001b[0m\u001b[0mstorage_options\u001b[0m\u001b[0;34m,\u001b[0m \u001b[0mengine\u001b[0m\u001b[0;34m=\u001b[0m\u001b[0mengine\u001b[0m\u001b[0;34m)\u001b[0m\u001b[0;34m\u001b[0m\u001b[0;34m\u001b[0m\u001b[0m\n\u001b[0m\u001b[1;32m    479\u001b[0m     \u001b[0;32melif\u001b[0m \u001b[0mengine\u001b[0m \u001b[0;32mand\u001b[0m \u001b[0mengine\u001b[0m \u001b[0;34m!=\u001b[0m \u001b[0mio\u001b[0m\u001b[0;34m.\u001b[0m\u001b[0mengine\u001b[0m\u001b[0;34m:\u001b[0m\u001b[0;34m\u001b[0m\u001b[0;34m\u001b[0m\u001b[0m\n\u001b[1;32m    480\u001b[0m         raise ValueError(\n",
            "\u001b[0;32m/usr/local/lib/python3.10/dist-packages/pandas/io/excel/_base.py\u001b[0m in \u001b[0;36m__init__\u001b[0;34m(self, path_or_buffer, engine, storage_options)\u001b[0m\n\u001b[1;32m   1494\u001b[0m                 \u001b[0mext\u001b[0m \u001b[0;34m=\u001b[0m \u001b[0;34m\"xls\"\u001b[0m\u001b[0;34m\u001b[0m\u001b[0;34m\u001b[0m\u001b[0m\n\u001b[1;32m   1495\u001b[0m             \u001b[0;32melse\u001b[0m\u001b[0;34m:\u001b[0m\u001b[0;34m\u001b[0m\u001b[0;34m\u001b[0m\u001b[0m\n\u001b[0;32m-> 1496\u001b[0;31m                 ext = inspect_excel_format(\n\u001b[0m\u001b[1;32m   1497\u001b[0m                     \u001b[0mcontent_or_path\u001b[0m\u001b[0;34m=\u001b[0m\u001b[0mpath_or_buffer\u001b[0m\u001b[0;34m,\u001b[0m \u001b[0mstorage_options\u001b[0m\u001b[0;34m=\u001b[0m\u001b[0mstorage_options\u001b[0m\u001b[0;34m\u001b[0m\u001b[0;34m\u001b[0m\u001b[0m\n\u001b[1;32m   1498\u001b[0m                 )\n",
            "\u001b[0;32m/usr/local/lib/python3.10/dist-packages/pandas/io/excel/_base.py\u001b[0m in \u001b[0;36minspect_excel_format\u001b[0;34m(content_or_path, storage_options)\u001b[0m\n\u001b[1;32m   1369\u001b[0m         \u001b[0mcontent_or_path\u001b[0m \u001b[0;34m=\u001b[0m \u001b[0mBytesIO\u001b[0m\u001b[0;34m(\u001b[0m\u001b[0mcontent_or_path\u001b[0m\u001b[0;34m)\u001b[0m\u001b[0;34m\u001b[0m\u001b[0;34m\u001b[0m\u001b[0m\n\u001b[1;32m   1370\u001b[0m \u001b[0;34m\u001b[0m\u001b[0m\n\u001b[0;32m-> 1371\u001b[0;31m     with get_handle(\n\u001b[0m\u001b[1;32m   1372\u001b[0m         \u001b[0mcontent_or_path\u001b[0m\u001b[0;34m,\u001b[0m \u001b[0;34m\"rb\"\u001b[0m\u001b[0;34m,\u001b[0m \u001b[0mstorage_options\u001b[0m\u001b[0;34m=\u001b[0m\u001b[0mstorage_options\u001b[0m\u001b[0;34m,\u001b[0m \u001b[0mis_text\u001b[0m\u001b[0;34m=\u001b[0m\u001b[0;32mFalse\u001b[0m\u001b[0;34m\u001b[0m\u001b[0;34m\u001b[0m\u001b[0m\n\u001b[1;32m   1373\u001b[0m     ) as handle:\n",
            "\u001b[0;32m/usr/local/lib/python3.10/dist-packages/pandas/io/common.py\u001b[0m in \u001b[0;36mget_handle\u001b[0;34m(path_or_buf, mode, encoding, compression, memory_map, is_text, errors, storage_options)\u001b[0m\n\u001b[1;32m    866\u001b[0m         \u001b[0;32melse\u001b[0m\u001b[0;34m:\u001b[0m\u001b[0;34m\u001b[0m\u001b[0;34m\u001b[0m\u001b[0m\n\u001b[1;32m    867\u001b[0m             \u001b[0;31m# Binary mode\u001b[0m\u001b[0;34m\u001b[0m\u001b[0;34m\u001b[0m\u001b[0m\n\u001b[0;32m--> 868\u001b[0;31m             \u001b[0mhandle\u001b[0m \u001b[0;34m=\u001b[0m \u001b[0mopen\u001b[0m\u001b[0;34m(\u001b[0m\u001b[0mhandle\u001b[0m\u001b[0;34m,\u001b[0m \u001b[0mioargs\u001b[0m\u001b[0;34m.\u001b[0m\u001b[0mmode\u001b[0m\u001b[0;34m)\u001b[0m\u001b[0;34m\u001b[0m\u001b[0;34m\u001b[0m\u001b[0m\n\u001b[0m\u001b[1;32m    869\u001b[0m         \u001b[0mhandles\u001b[0m\u001b[0;34m.\u001b[0m\u001b[0mappend\u001b[0m\u001b[0;34m(\u001b[0m\u001b[0mhandle\u001b[0m\u001b[0;34m)\u001b[0m\u001b[0;34m\u001b[0m\u001b[0;34m\u001b[0m\u001b[0m\n\u001b[1;32m    870\u001b[0m \u001b[0;34m\u001b[0m\u001b[0m\n",
            "\u001b[0;31mFileNotFoundError\u001b[0m: [Errno 2] No such file or directory: '/content/drive/MyDrive/Input.xlsx'"
          ]
        }
      ]
    },
    {
      "cell_type": "markdown",
      "source": [
        "## **Data analysis**"
      ],
      "metadata": {
        "id": "jwNUSFgB5aUy"
      }
    },
    {
      "cell_type": "code",
      "source": [
        "text=pd.read_csv(\"/content/drive/MyDrive//148.txt\",header=None)\n"
      ],
      "metadata": {
        "id": "gWKfj8VP5cey"
      },
      "execution_count": 46,
      "outputs": []
    },
    {
      "cell_type": "code",
      "source": [
        "text.info()"
      ],
      "metadata": {
        "colab": {
          "base_uri": "https://localhost:8080/"
        },
        "id": "rInIQL2c5lFy",
        "outputId": "4a38b1e2-58ac-4856-c49d-c48b3d8ff362"
      },
      "execution_count": 47,
      "outputs": [
        {
          "output_type": "stream",
          "name": "stdout",
          "text": [
            "<class 'pandas.core.frame.DataFrame'>\n",
            "RangeIndex: 148 entries, 0 to 147\n",
            "Data columns (total 1 columns):\n",
            " #   Column  Non-Null Count  Dtype \n",
            "---  ------  --------------  ----- \n",
            " 0   0       148 non-null    object\n",
            "dtypes: object(1)\n",
            "memory usage: 1.3+ KB\n"
          ]
        }
      ]
    },
    {
      "cell_type": "code",
      "source": [
        "text.drop(text.index[0], inplace=True)"
      ],
      "metadata": {
        "id": "T81GfxDI5oJj"
      },
      "execution_count": 50,
      "outputs": []
    },
    {
      "cell_type": "code",
      "source": [
        "text=text.astype(str)"
      ],
      "metadata": {
        "id": "vvl5WCqj6M0_"
      },
      "execution_count": 51,
      "outputs": []
    },
    {
      "cell_type": "code",
      "source": [
        "import re\n",
        "a=text[0].str.split('([\\.]\\s)',expand=False)#splitting text on '.'\n",
        "b=a.explode()#converting to rows\n",
        "b=pd.DataFrame(b)#creating data frame\n",
        "b.columns=['abc']"
      ],
      "metadata": {
        "id": "Iiktc0tM6R2-"
      },
      "execution_count": 52,
      "outputs": []
    },
    {
      "cell_type": "code",
      "source": [
        "def abcd(x):\n",
        "    nopunc =[char for char in x if char != '.']\n",
        "    return ''.join(nopunc)\n",
        "b['abc']=b['abc'].apply(abcd)\n"
      ],
      "metadata": {
        "id": "-Am5c6He6VPV"
      },
      "execution_count": 53,
      "outputs": []
    },
    {
      "cell_type": "code",
      "source": [
        "#replacing emty space with null values\n",
        "c=b.replace('',np.nan,regex=True)\n",
        "c=c.mask(c==\" \")\n",
        "c=c.dropna()\n",
        "c.reset_index(drop=True,inplace=True)\n",
        ""
      ],
      "metadata": {
        "id": "rBOMaDq66Yal"
      },
      "execution_count": 54,
      "outputs": []
    },
    {
      "cell_type": "code",
      "source": [
        "c"
      ],
      "metadata": {
        "colab": {
          "base_uri": "https://localhost:8080/",
          "height": 423
        },
        "id": "3_QBg3IO6cZS",
        "outputId": "e2e4d191-2dd0-41fd-f0b3-c32c52802c65"
      },
      "execution_count": 55,
      "outputs": [
        {
          "output_type": "execute_result",
          "data": {
            "text/plain": [
              "                                                   abc\n",
              "0    bctech2011\\thttps://insightsblackcoffercom/ml-...\n",
              "1    bctech2012\\thttps://insightsblackcoffercom/str...\n",
              "2    bctech2013\\thttps://insightsblackcoffercom/eff...\n",
              "3    bctech2014\\thttps://insightsblackcoffercom/eff...\n",
              "4    bctech2015\\thttps://insightsblackcoffercom/str...\n",
              "..                                                 ...\n",
              "142  bctech2153\\thttps://insightsblackcoffercom/pop...\n",
              "143  bctech2154\\thttps://insightsblackcoffercom/goo...\n",
              "144  bctech2155\\thttps://insightsblackcoffercom/hea...\n",
              "145  bctech2156\\thttps://insightsblackcoffercom/bud...\n",
              "146  bctech2157\\thttps://insightsblackcoffercom/ama...\n",
              "\n",
              "[147 rows x 1 columns]"
            ],
            "text/html": [
              "\n",
              "  <div id=\"df-93b0d600-6bf1-4dcb-98ce-656f86863ddc\" class=\"colab-df-container\">\n",
              "    <div>\n",
              "<style scoped>\n",
              "    .dataframe tbody tr th:only-of-type {\n",
              "        vertical-align: middle;\n",
              "    }\n",
              "\n",
              "    .dataframe tbody tr th {\n",
              "        vertical-align: top;\n",
              "    }\n",
              "\n",
              "    .dataframe thead th {\n",
              "        text-align: right;\n",
              "    }\n",
              "</style>\n",
              "<table border=\"1\" class=\"dataframe\">\n",
              "  <thead>\n",
              "    <tr style=\"text-align: right;\">\n",
              "      <th></th>\n",
              "      <th>abc</th>\n",
              "    </tr>\n",
              "  </thead>\n",
              "  <tbody>\n",
              "    <tr>\n",
              "      <th>0</th>\n",
              "      <td>bctech2011\\thttps://insightsblackcoffercom/ml-...</td>\n",
              "    </tr>\n",
              "    <tr>\n",
              "      <th>1</th>\n",
              "      <td>bctech2012\\thttps://insightsblackcoffercom/str...</td>\n",
              "    </tr>\n",
              "    <tr>\n",
              "      <th>2</th>\n",
              "      <td>bctech2013\\thttps://insightsblackcoffercom/eff...</td>\n",
              "    </tr>\n",
              "    <tr>\n",
              "      <th>3</th>\n",
              "      <td>bctech2014\\thttps://insightsblackcoffercom/eff...</td>\n",
              "    </tr>\n",
              "    <tr>\n",
              "      <th>4</th>\n",
              "      <td>bctech2015\\thttps://insightsblackcoffercom/str...</td>\n",
              "    </tr>\n",
              "    <tr>\n",
              "      <th>...</th>\n",
              "      <td>...</td>\n",
              "    </tr>\n",
              "    <tr>\n",
              "      <th>142</th>\n",
              "      <td>bctech2153\\thttps://insightsblackcoffercom/pop...</td>\n",
              "    </tr>\n",
              "    <tr>\n",
              "      <th>143</th>\n",
              "      <td>bctech2154\\thttps://insightsblackcoffercom/goo...</td>\n",
              "    </tr>\n",
              "    <tr>\n",
              "      <th>144</th>\n",
              "      <td>bctech2155\\thttps://insightsblackcoffercom/hea...</td>\n",
              "    </tr>\n",
              "    <tr>\n",
              "      <th>145</th>\n",
              "      <td>bctech2156\\thttps://insightsblackcoffercom/bud...</td>\n",
              "    </tr>\n",
              "    <tr>\n",
              "      <th>146</th>\n",
              "      <td>bctech2157\\thttps://insightsblackcoffercom/ama...</td>\n",
              "    </tr>\n",
              "  </tbody>\n",
              "</table>\n",
              "<p>147 rows × 1 columns</p>\n",
              "</div>\n",
              "    <div class=\"colab-df-buttons\">\n",
              "\n",
              "  <div class=\"colab-df-container\">\n",
              "    <button class=\"colab-df-convert\" onclick=\"convertToInteractive('df-93b0d600-6bf1-4dcb-98ce-656f86863ddc')\"\n",
              "            title=\"Convert this dataframe to an interactive table.\"\n",
              "            style=\"display:none;\">\n",
              "\n",
              "  <svg xmlns=\"http://www.w3.org/2000/svg\" height=\"24px\" viewBox=\"0 -960 960 960\">\n",
              "    <path d=\"M120-120v-720h720v720H120Zm60-500h600v-160H180v160Zm220 220h160v-160H400v160Zm0 220h160v-160H400v160ZM180-400h160v-160H180v160Zm440 0h160v-160H620v160ZM180-180h160v-160H180v160Zm440 0h160v-160H620v160Z\"/>\n",
              "  </svg>\n",
              "    </button>\n",
              "\n",
              "  <style>\n",
              "    .colab-df-container {\n",
              "      display:flex;\n",
              "      gap: 12px;\n",
              "    }\n",
              "\n",
              "    .colab-df-convert {\n",
              "      background-color: #E8F0FE;\n",
              "      border: none;\n",
              "      border-radius: 50%;\n",
              "      cursor: pointer;\n",
              "      display: none;\n",
              "      fill: #1967D2;\n",
              "      height: 32px;\n",
              "      padding: 0 0 0 0;\n",
              "      width: 32px;\n",
              "    }\n",
              "\n",
              "    .colab-df-convert:hover {\n",
              "      background-color: #E2EBFA;\n",
              "      box-shadow: 0px 1px 2px rgba(60, 64, 67, 0.3), 0px 1px 3px 1px rgba(60, 64, 67, 0.15);\n",
              "      fill: #174EA6;\n",
              "    }\n",
              "\n",
              "    .colab-df-buttons div {\n",
              "      margin-bottom: 4px;\n",
              "    }\n",
              "\n",
              "    [theme=dark] .colab-df-convert {\n",
              "      background-color: #3B4455;\n",
              "      fill: #D2E3FC;\n",
              "    }\n",
              "\n",
              "    [theme=dark] .colab-df-convert:hover {\n",
              "      background-color: #434B5C;\n",
              "      box-shadow: 0px 1px 3px 1px rgba(0, 0, 0, 0.15);\n",
              "      filter: drop-shadow(0px 1px 2px rgba(0, 0, 0, 0.3));\n",
              "      fill: #FFFFFF;\n",
              "    }\n",
              "  </style>\n",
              "\n",
              "    <script>\n",
              "      const buttonEl =\n",
              "        document.querySelector('#df-93b0d600-6bf1-4dcb-98ce-656f86863ddc button.colab-df-convert');\n",
              "      buttonEl.style.display =\n",
              "        google.colab.kernel.accessAllowed ? 'block' : 'none';\n",
              "\n",
              "      async function convertToInteractive(key) {\n",
              "        const element = document.querySelector('#df-93b0d600-6bf1-4dcb-98ce-656f86863ddc');\n",
              "        const dataTable =\n",
              "          await google.colab.kernel.invokeFunction('convertToInteractive',\n",
              "                                                    [key], {});\n",
              "        if (!dataTable) return;\n",
              "\n",
              "        const docLinkHtml = 'Like what you see? Visit the ' +\n",
              "          '<a target=\"_blank\" href=https://colab.research.google.com/notebooks/data_table.ipynb>data table notebook</a>'\n",
              "          + ' to learn more about interactive tables.';\n",
              "        element.innerHTML = '';\n",
              "        dataTable['output_type'] = 'display_data';\n",
              "        await google.colab.output.renderOutput(dataTable, element);\n",
              "        const docLink = document.createElement('div');\n",
              "        docLink.innerHTML = docLinkHtml;\n",
              "        element.appendChild(docLink);\n",
              "      }\n",
              "    </script>\n",
              "  </div>\n",
              "\n",
              "\n",
              "<div id=\"df-3a61228b-c76c-46b4-9df3-e59661c96d08\">\n",
              "  <button class=\"colab-df-quickchart\" onclick=\"quickchart('df-3a61228b-c76c-46b4-9df3-e59661c96d08')\"\n",
              "            title=\"Suggest charts\"\n",
              "            style=\"display:none;\">\n",
              "\n",
              "<svg xmlns=\"http://www.w3.org/2000/svg\" height=\"24px\"viewBox=\"0 0 24 24\"\n",
              "     width=\"24px\">\n",
              "    <g>\n",
              "        <path d=\"M19 3H5c-1.1 0-2 .9-2 2v14c0 1.1.9 2 2 2h14c1.1 0 2-.9 2-2V5c0-1.1-.9-2-2-2zM9 17H7v-7h2v7zm4 0h-2V7h2v10zm4 0h-2v-4h2v4z\"/>\n",
              "    </g>\n",
              "</svg>\n",
              "  </button>\n",
              "\n",
              "<style>\n",
              "  .colab-df-quickchart {\n",
              "      --bg-color: #E8F0FE;\n",
              "      --fill-color: #1967D2;\n",
              "      --hover-bg-color: #E2EBFA;\n",
              "      --hover-fill-color: #174EA6;\n",
              "      --disabled-fill-color: #AAA;\n",
              "      --disabled-bg-color: #DDD;\n",
              "  }\n",
              "\n",
              "  [theme=dark] .colab-df-quickchart {\n",
              "      --bg-color: #3B4455;\n",
              "      --fill-color: #D2E3FC;\n",
              "      --hover-bg-color: #434B5C;\n",
              "      --hover-fill-color: #FFFFFF;\n",
              "      --disabled-bg-color: #3B4455;\n",
              "      --disabled-fill-color: #666;\n",
              "  }\n",
              "\n",
              "  .colab-df-quickchart {\n",
              "    background-color: var(--bg-color);\n",
              "    border: none;\n",
              "    border-radius: 50%;\n",
              "    cursor: pointer;\n",
              "    display: none;\n",
              "    fill: var(--fill-color);\n",
              "    height: 32px;\n",
              "    padding: 0;\n",
              "    width: 32px;\n",
              "  }\n",
              "\n",
              "  .colab-df-quickchart:hover {\n",
              "    background-color: var(--hover-bg-color);\n",
              "    box-shadow: 0 1px 2px rgba(60, 64, 67, 0.3), 0 1px 3px 1px rgba(60, 64, 67, 0.15);\n",
              "    fill: var(--button-hover-fill-color);\n",
              "  }\n",
              "\n",
              "  .colab-df-quickchart-complete:disabled,\n",
              "  .colab-df-quickchart-complete:disabled:hover {\n",
              "    background-color: var(--disabled-bg-color);\n",
              "    fill: var(--disabled-fill-color);\n",
              "    box-shadow: none;\n",
              "  }\n",
              "\n",
              "  .colab-df-spinner {\n",
              "    border: 2px solid var(--fill-color);\n",
              "    border-color: transparent;\n",
              "    border-bottom-color: var(--fill-color);\n",
              "    animation:\n",
              "      spin 1s steps(1) infinite;\n",
              "  }\n",
              "\n",
              "  @keyframes spin {\n",
              "    0% {\n",
              "      border-color: transparent;\n",
              "      border-bottom-color: var(--fill-color);\n",
              "      border-left-color: var(--fill-color);\n",
              "    }\n",
              "    20% {\n",
              "      border-color: transparent;\n",
              "      border-left-color: var(--fill-color);\n",
              "      border-top-color: var(--fill-color);\n",
              "    }\n",
              "    30% {\n",
              "      border-color: transparent;\n",
              "      border-left-color: var(--fill-color);\n",
              "      border-top-color: var(--fill-color);\n",
              "      border-right-color: var(--fill-color);\n",
              "    }\n",
              "    40% {\n",
              "      border-color: transparent;\n",
              "      border-right-color: var(--fill-color);\n",
              "      border-top-color: var(--fill-color);\n",
              "    }\n",
              "    60% {\n",
              "      border-color: transparent;\n",
              "      border-right-color: var(--fill-color);\n",
              "    }\n",
              "    80% {\n",
              "      border-color: transparent;\n",
              "      border-right-color: var(--fill-color);\n",
              "      border-bottom-color: var(--fill-color);\n",
              "    }\n",
              "    90% {\n",
              "      border-color: transparent;\n",
              "      border-bottom-color: var(--fill-color);\n",
              "    }\n",
              "  }\n",
              "</style>\n",
              "\n",
              "  <script>\n",
              "    async function quickchart(key) {\n",
              "      const quickchartButtonEl =\n",
              "        document.querySelector('#' + key + ' button');\n",
              "      quickchartButtonEl.disabled = true;  // To prevent multiple clicks.\n",
              "      quickchartButtonEl.classList.add('colab-df-spinner');\n",
              "      try {\n",
              "        const charts = await google.colab.kernel.invokeFunction(\n",
              "            'suggestCharts', [key], {});\n",
              "      } catch (error) {\n",
              "        console.error('Error during call to suggestCharts:', error);\n",
              "      }\n",
              "      quickchartButtonEl.classList.remove('colab-df-spinner');\n",
              "      quickchartButtonEl.classList.add('colab-df-quickchart-complete');\n",
              "    }\n",
              "    (() => {\n",
              "      let quickchartButtonEl =\n",
              "        document.querySelector('#df-3a61228b-c76c-46b4-9df3-e59661c96d08 button');\n",
              "      quickchartButtonEl.style.display =\n",
              "        google.colab.kernel.accessAllowed ? 'block' : 'none';\n",
              "    })();\n",
              "  </script>\n",
              "</div>\n",
              "\n",
              "  <div id=\"id_0ba680c2-ab8b-4267-be82-942ff19e85e3\">\n",
              "    <style>\n",
              "      .colab-df-generate {\n",
              "        background-color: #E8F0FE;\n",
              "        border: none;\n",
              "        border-radius: 50%;\n",
              "        cursor: pointer;\n",
              "        display: none;\n",
              "        fill: #1967D2;\n",
              "        height: 32px;\n",
              "        padding: 0 0 0 0;\n",
              "        width: 32px;\n",
              "      }\n",
              "\n",
              "      .colab-df-generate:hover {\n",
              "        background-color: #E2EBFA;\n",
              "        box-shadow: 0px 1px 2px rgba(60, 64, 67, 0.3), 0px 1px 3px 1px rgba(60, 64, 67, 0.15);\n",
              "        fill: #174EA6;\n",
              "      }\n",
              "\n",
              "      [theme=dark] .colab-df-generate {\n",
              "        background-color: #3B4455;\n",
              "        fill: #D2E3FC;\n",
              "      }\n",
              "\n",
              "      [theme=dark] .colab-df-generate:hover {\n",
              "        background-color: #434B5C;\n",
              "        box-shadow: 0px 1px 3px 1px rgba(0, 0, 0, 0.15);\n",
              "        filter: drop-shadow(0px 1px 2px rgba(0, 0, 0, 0.3));\n",
              "        fill: #FFFFFF;\n",
              "      }\n",
              "    </style>\n",
              "    <button class=\"colab-df-generate\" onclick=\"generateWithVariable('c')\"\n",
              "            title=\"Generate code using this dataframe.\"\n",
              "            style=\"display:none;\">\n",
              "\n",
              "  <svg xmlns=\"http://www.w3.org/2000/svg\" height=\"24px\"viewBox=\"0 0 24 24\"\n",
              "       width=\"24px\">\n",
              "    <path d=\"M7,19H8.4L18.45,9,17,7.55,7,17.6ZM5,21V16.75L18.45,3.32a2,2,0,0,1,2.83,0l1.4,1.43a1.91,1.91,0,0,1,.58,1.4,1.91,1.91,0,0,1-.58,1.4L9.25,21ZM18.45,9,17,7.55Zm-12,3A5.31,5.31,0,0,0,4.9,8.1,5.31,5.31,0,0,0,1,6.5,5.31,5.31,0,0,0,4.9,4.9,5.31,5.31,0,0,0,6.5,1,5.31,5.31,0,0,0,8.1,4.9,5.31,5.31,0,0,0,12,6.5,5.46,5.46,0,0,0,6.5,12Z\"/>\n",
              "  </svg>\n",
              "    </button>\n",
              "    <script>\n",
              "      (() => {\n",
              "      const buttonEl =\n",
              "        document.querySelector('#id_0ba680c2-ab8b-4267-be82-942ff19e85e3 button.colab-df-generate');\n",
              "      buttonEl.style.display =\n",
              "        google.colab.kernel.accessAllowed ? 'block' : 'none';\n",
              "\n",
              "      buttonEl.onclick = () => {\n",
              "        google.colab.notebook.generateWithVariable('c');\n",
              "      }\n",
              "      })();\n",
              "    </script>\n",
              "  </div>\n",
              "\n",
              "    </div>\n",
              "  </div>\n"
            ],
            "application/vnd.google.colaboratory.intrinsic+json": {
              "type": "dataframe",
              "variable_name": "c",
              "summary": "{\n  \"name\": \"c\",\n  \"rows\": 147,\n  \"fields\": [\n    {\n      \"column\": \"abc\",\n      \"properties\": {\n        \"dtype\": \"string\",\n        \"num_unique_values\": 147,\n        \"samples\": [\n          \"bctech2136\\thttps://insightsblackcoffercom/lipsync-automation-for-celebrities-and-influencers/\",\n          \"bctech2062\\thttps://insightsblackcoffercom/an-etl-solution-for-an-internet-publishing-firm/\",\n          \"bctech2149\\thttps://insightsblackcoffercom/data-etl-local-service-ads-leads-to-bigquery/\"\n        ],\n        \"semantic_type\": \"\",\n        \"description\": \"\"\n      }\n    }\n  ]\n}"
            }
          },
          "metadata": {},
          "execution_count": 55
        }
      ]
    },
    {
      "cell_type": "code",
      "source": [
        "import nltk\n",
        "import string"
      ],
      "metadata": {
        "id": "Vj0xrdjs6erq"
      },
      "execution_count": 56,
      "outputs": []
    },
    {
      "cell_type": "code",
      "source": [
        "punc=[punc for punc in string.punctuation]\n"
      ],
      "metadata": {
        "id": "yQEUG_Hc6jTX"
      },
      "execution_count": 57,
      "outputs": []
    },
    {
      "cell_type": "code",
      "source": [
        "\n",
        "punc"
      ],
      "metadata": {
        "colab": {
          "base_uri": "https://localhost:8080/"
        },
        "id": "romI-9-j6mCB",
        "outputId": "22621bdb-3fc7-4730-e9c1-3f36f01046f9"
      },
      "execution_count": 58,
      "outputs": [
        {
          "output_type": "execute_result",
          "data": {
            "text/plain": [
              "['!',\n",
              " '\"',\n",
              " '#',\n",
              " '$',\n",
              " '%',\n",
              " '&',\n",
              " \"'\",\n",
              " '(',\n",
              " ')',\n",
              " '*',\n",
              " '+',\n",
              " ',',\n",
              " '-',\n",
              " '.',\n",
              " '/',\n",
              " ':',\n",
              " ';',\n",
              " '<',\n",
              " '=',\n",
              " '>',\n",
              " '?',\n",
              " '@',\n",
              " '[',\n",
              " '\\\\',\n",
              " ']',\n",
              " '^',\n",
              " '_',\n",
              " '`',\n",
              " '{',\n",
              " '|',\n",
              " '}',\n",
              " '~']"
            ]
          },
          "metadata": {},
          "execution_count": 58
        }
      ]
    },
    {
      "cell_type": "code",
      "source": [
        "StopWords_Auditor = pd.read_table(\"/content/drive/MyDrive/StopWords_Auditor.txt\", header=None, encoding=\"utf-8\")\n",
        "StopWords_Currencies = pd.read_table(\"/content/drive/MyDrive/StopWords_Currencies.txt\", header=None, encoding=\"ISO-8859-1\")\n",
        "StopWords_DatesandNumbers = pd.read_table(\"/content/drive/MyDrive/StopWords_DatesandNumbers.txt\", header=None, encoding=\"utf-8\")\n",
        "StopWords_Generic = pd.read_table(\"/content/drive/MyDrive/StopWords_Generic.txt\", header=None, encoding=\"utf-8\")\n",
        "StopWords_GenericLong = pd.read_table(\"/content/drive/MyDrive/StopWords_GenericLong.txt\", header=None, encoding=\"utf-8\")\n",
        "StopWords_Geographic = pd.read_table(\"/content/drive/MyDrive/StopWords_Geographic.txt\", header=None, encoding=\"utf-8\")\n",
        "StopWords_Names = pd.read_table(\"/content/drive/MyDrive/StopWords_Names.txt\", header=None, encoding=\"utf-8\")"
      ],
      "metadata": {
        "id": "sOmGNfaHFuL7"
      },
      "execution_count": 128,
      "outputs": []
    },
    {
      "cell_type": "code",
      "source": [
        "def text_process(text):\n",
        "    nopunc =[char for char in text if char not in punc or char not in [':',',','(',')','’','?']]\n",
        "    nopunc=''.join(nopunc)\n",
        "    txt=' '.join([word for word in nopunc.split() if word.lower() not in StopWords_Auditor])\n",
        "    txt1=' '.join([word for word in txt.split() if word.lower() not in StopWords_Currencies])\n",
        "    txt2=' '.join([word for word in txt1.split() if word.lower() not in StopWords_DatesandNumbers])\n",
        "    txt3=' '.join([word for word in txt2.split() if word.lower() not in StopWords_Generic])\n",
        "    txt4=' '.join([word for word in txt3.split() if word.lower() not in StopWords_GenericLong])\n",
        "    txt5=' '.join([word for word in txt4.split() if word.lower() not in StopWords_Geographic])\n",
        "    return ' '.join([word for word in txt5.split() if word.lower() not in StopWords_Names])"
      ],
      "metadata": {
        "id": "-JHCH63J6noX"
      },
      "execution_count": 129,
      "outputs": []
    },
    {
      "cell_type": "code",
      "source": [
        "\n",
        "\n",
        "c['abc'] = c['abc'].apply(text_process)"
      ],
      "metadata": {
        "id": "xDtFtyt-9pk3"
      },
      "execution_count": 130,
      "outputs": []
    },
    {
      "cell_type": "code",
      "source": [
        "c"
      ],
      "metadata": {
        "colab": {
          "base_uri": "https://localhost:8080/",
          "height": 423
        },
        "id": "uaYhcdUp-Adk",
        "outputId": "269367e7-5dc1-42d1-acc8-c6efd579e248"
      },
      "execution_count": 131,
      "outputs": [
        {
          "output_type": "execute_result",
          "data": {
            "text/plain": [
              "                                                   abc\n",
              "0    bctech2011 https//insightsblackcoffercom/ml-an...\n",
              "1    bctech2012 https//insightsblackcoffercom/strea...\n",
              "2    bctech2013 https//insightsblackcoffercom/effic...\n",
              "3    bctech2014 https//insightsblackcoffercom/effec...\n",
              "4    bctech2015 https//insightsblackcoffercom/strea...\n",
              "..                                                 ...\n",
              "142  bctech2153 https//insightsblackcoffercom/popul...\n",
              "143  bctech2154 https//insightsblackcoffercom/googl...\n",
              "144  bctech2155 https//insightsblackcoffercom/healt...\n",
              "145  bctech2156 https//insightsblackcoffercom/budge...\n",
              "146  bctech2157 https//insightsblackcoffercom/amazo...\n",
              "\n",
              "[147 rows x 1 columns]"
            ],
            "text/html": [
              "\n",
              "  <div id=\"df-bbd139d7-facb-4054-bc1e-180db3e7ed79\" class=\"colab-df-container\">\n",
              "    <div>\n",
              "<style scoped>\n",
              "    .dataframe tbody tr th:only-of-type {\n",
              "        vertical-align: middle;\n",
              "    }\n",
              "\n",
              "    .dataframe tbody tr th {\n",
              "        vertical-align: top;\n",
              "    }\n",
              "\n",
              "    .dataframe thead th {\n",
              "        text-align: right;\n",
              "    }\n",
              "</style>\n",
              "<table border=\"1\" class=\"dataframe\">\n",
              "  <thead>\n",
              "    <tr style=\"text-align: right;\">\n",
              "      <th></th>\n",
              "      <th>abc</th>\n",
              "    </tr>\n",
              "  </thead>\n",
              "  <tbody>\n",
              "    <tr>\n",
              "      <th>0</th>\n",
              "      <td>bctech2011 https//insightsblackcoffercom/ml-an...</td>\n",
              "    </tr>\n",
              "    <tr>\n",
              "      <th>1</th>\n",
              "      <td>bctech2012 https//insightsblackcoffercom/strea...</td>\n",
              "    </tr>\n",
              "    <tr>\n",
              "      <th>2</th>\n",
              "      <td>bctech2013 https//insightsblackcoffercom/effic...</td>\n",
              "    </tr>\n",
              "    <tr>\n",
              "      <th>3</th>\n",
              "      <td>bctech2014 https//insightsblackcoffercom/effec...</td>\n",
              "    </tr>\n",
              "    <tr>\n",
              "      <th>4</th>\n",
              "      <td>bctech2015 https//insightsblackcoffercom/strea...</td>\n",
              "    </tr>\n",
              "    <tr>\n",
              "      <th>...</th>\n",
              "      <td>...</td>\n",
              "    </tr>\n",
              "    <tr>\n",
              "      <th>142</th>\n",
              "      <td>bctech2153 https//insightsblackcoffercom/popul...</td>\n",
              "    </tr>\n",
              "    <tr>\n",
              "      <th>143</th>\n",
              "      <td>bctech2154 https//insightsblackcoffercom/googl...</td>\n",
              "    </tr>\n",
              "    <tr>\n",
              "      <th>144</th>\n",
              "      <td>bctech2155 https//insightsblackcoffercom/healt...</td>\n",
              "    </tr>\n",
              "    <tr>\n",
              "      <th>145</th>\n",
              "      <td>bctech2156 https//insightsblackcoffercom/budge...</td>\n",
              "    </tr>\n",
              "    <tr>\n",
              "      <th>146</th>\n",
              "      <td>bctech2157 https//insightsblackcoffercom/amazo...</td>\n",
              "    </tr>\n",
              "  </tbody>\n",
              "</table>\n",
              "<p>147 rows × 1 columns</p>\n",
              "</div>\n",
              "    <div class=\"colab-df-buttons\">\n",
              "\n",
              "  <div class=\"colab-df-container\">\n",
              "    <button class=\"colab-df-convert\" onclick=\"convertToInteractive('df-bbd139d7-facb-4054-bc1e-180db3e7ed79')\"\n",
              "            title=\"Convert this dataframe to an interactive table.\"\n",
              "            style=\"display:none;\">\n",
              "\n",
              "  <svg xmlns=\"http://www.w3.org/2000/svg\" height=\"24px\" viewBox=\"0 -960 960 960\">\n",
              "    <path d=\"M120-120v-720h720v720H120Zm60-500h600v-160H180v160Zm220 220h160v-160H400v160Zm0 220h160v-160H400v160ZM180-400h160v-160H180v160Zm440 0h160v-160H620v160ZM180-180h160v-160H180v160Zm440 0h160v-160H620v160Z\"/>\n",
              "  </svg>\n",
              "    </button>\n",
              "\n",
              "  <style>\n",
              "    .colab-df-container {\n",
              "      display:flex;\n",
              "      gap: 12px;\n",
              "    }\n",
              "\n",
              "    .colab-df-convert {\n",
              "      background-color: #E8F0FE;\n",
              "      border: none;\n",
              "      border-radius: 50%;\n",
              "      cursor: pointer;\n",
              "      display: none;\n",
              "      fill: #1967D2;\n",
              "      height: 32px;\n",
              "      padding: 0 0 0 0;\n",
              "      width: 32px;\n",
              "    }\n",
              "\n",
              "    .colab-df-convert:hover {\n",
              "      background-color: #E2EBFA;\n",
              "      box-shadow: 0px 1px 2px rgba(60, 64, 67, 0.3), 0px 1px 3px 1px rgba(60, 64, 67, 0.15);\n",
              "      fill: #174EA6;\n",
              "    }\n",
              "\n",
              "    .colab-df-buttons div {\n",
              "      margin-bottom: 4px;\n",
              "    }\n",
              "\n",
              "    [theme=dark] .colab-df-convert {\n",
              "      background-color: #3B4455;\n",
              "      fill: #D2E3FC;\n",
              "    }\n",
              "\n",
              "    [theme=dark] .colab-df-convert:hover {\n",
              "      background-color: #434B5C;\n",
              "      box-shadow: 0px 1px 3px 1px rgba(0, 0, 0, 0.15);\n",
              "      filter: drop-shadow(0px 1px 2px rgba(0, 0, 0, 0.3));\n",
              "      fill: #FFFFFF;\n",
              "    }\n",
              "  </style>\n",
              "\n",
              "    <script>\n",
              "      const buttonEl =\n",
              "        document.querySelector('#df-bbd139d7-facb-4054-bc1e-180db3e7ed79 button.colab-df-convert');\n",
              "      buttonEl.style.display =\n",
              "        google.colab.kernel.accessAllowed ? 'block' : 'none';\n",
              "\n",
              "      async function convertToInteractive(key) {\n",
              "        const element = document.querySelector('#df-bbd139d7-facb-4054-bc1e-180db3e7ed79');\n",
              "        const dataTable =\n",
              "          await google.colab.kernel.invokeFunction('convertToInteractive',\n",
              "                                                    [key], {});\n",
              "        if (!dataTable) return;\n",
              "\n",
              "        const docLinkHtml = 'Like what you see? Visit the ' +\n",
              "          '<a target=\"_blank\" href=https://colab.research.google.com/notebooks/data_table.ipynb>data table notebook</a>'\n",
              "          + ' to learn more about interactive tables.';\n",
              "        element.innerHTML = '';\n",
              "        dataTable['output_type'] = 'display_data';\n",
              "        await google.colab.output.renderOutput(dataTable, element);\n",
              "        const docLink = document.createElement('div');\n",
              "        docLink.innerHTML = docLinkHtml;\n",
              "        element.appendChild(docLink);\n",
              "      }\n",
              "    </script>\n",
              "  </div>\n",
              "\n",
              "\n",
              "<div id=\"df-2af1b329-3904-417d-b8c4-91c7e8ddc387\">\n",
              "  <button class=\"colab-df-quickchart\" onclick=\"quickchart('df-2af1b329-3904-417d-b8c4-91c7e8ddc387')\"\n",
              "            title=\"Suggest charts\"\n",
              "            style=\"display:none;\">\n",
              "\n",
              "<svg xmlns=\"http://www.w3.org/2000/svg\" height=\"24px\"viewBox=\"0 0 24 24\"\n",
              "     width=\"24px\">\n",
              "    <g>\n",
              "        <path d=\"M19 3H5c-1.1 0-2 .9-2 2v14c0 1.1.9 2 2 2h14c1.1 0 2-.9 2-2V5c0-1.1-.9-2-2-2zM9 17H7v-7h2v7zm4 0h-2V7h2v10zm4 0h-2v-4h2v4z\"/>\n",
              "    </g>\n",
              "</svg>\n",
              "  </button>\n",
              "\n",
              "<style>\n",
              "  .colab-df-quickchart {\n",
              "      --bg-color: #E8F0FE;\n",
              "      --fill-color: #1967D2;\n",
              "      --hover-bg-color: #E2EBFA;\n",
              "      --hover-fill-color: #174EA6;\n",
              "      --disabled-fill-color: #AAA;\n",
              "      --disabled-bg-color: #DDD;\n",
              "  }\n",
              "\n",
              "  [theme=dark] .colab-df-quickchart {\n",
              "      --bg-color: #3B4455;\n",
              "      --fill-color: #D2E3FC;\n",
              "      --hover-bg-color: #434B5C;\n",
              "      --hover-fill-color: #FFFFFF;\n",
              "      --disabled-bg-color: #3B4455;\n",
              "      --disabled-fill-color: #666;\n",
              "  }\n",
              "\n",
              "  .colab-df-quickchart {\n",
              "    background-color: var(--bg-color);\n",
              "    border: none;\n",
              "    border-radius: 50%;\n",
              "    cursor: pointer;\n",
              "    display: none;\n",
              "    fill: var(--fill-color);\n",
              "    height: 32px;\n",
              "    padding: 0;\n",
              "    width: 32px;\n",
              "  }\n",
              "\n",
              "  .colab-df-quickchart:hover {\n",
              "    background-color: var(--hover-bg-color);\n",
              "    box-shadow: 0 1px 2px rgba(60, 64, 67, 0.3), 0 1px 3px 1px rgba(60, 64, 67, 0.15);\n",
              "    fill: var(--button-hover-fill-color);\n",
              "  }\n",
              "\n",
              "  .colab-df-quickchart-complete:disabled,\n",
              "  .colab-df-quickchart-complete:disabled:hover {\n",
              "    background-color: var(--disabled-bg-color);\n",
              "    fill: var(--disabled-fill-color);\n",
              "    box-shadow: none;\n",
              "  }\n",
              "\n",
              "  .colab-df-spinner {\n",
              "    border: 2px solid var(--fill-color);\n",
              "    border-color: transparent;\n",
              "    border-bottom-color: var(--fill-color);\n",
              "    animation:\n",
              "      spin 1s steps(1) infinite;\n",
              "  }\n",
              "\n",
              "  @keyframes spin {\n",
              "    0% {\n",
              "      border-color: transparent;\n",
              "      border-bottom-color: var(--fill-color);\n",
              "      border-left-color: var(--fill-color);\n",
              "    }\n",
              "    20% {\n",
              "      border-color: transparent;\n",
              "      border-left-color: var(--fill-color);\n",
              "      border-top-color: var(--fill-color);\n",
              "    }\n",
              "    30% {\n",
              "      border-color: transparent;\n",
              "      border-left-color: var(--fill-color);\n",
              "      border-top-color: var(--fill-color);\n",
              "      border-right-color: var(--fill-color);\n",
              "    }\n",
              "    40% {\n",
              "      border-color: transparent;\n",
              "      border-right-color: var(--fill-color);\n",
              "      border-top-color: var(--fill-color);\n",
              "    }\n",
              "    60% {\n",
              "      border-color: transparent;\n",
              "      border-right-color: var(--fill-color);\n",
              "    }\n",
              "    80% {\n",
              "      border-color: transparent;\n",
              "      border-right-color: var(--fill-color);\n",
              "      border-bottom-color: var(--fill-color);\n",
              "    }\n",
              "    90% {\n",
              "      border-color: transparent;\n",
              "      border-bottom-color: var(--fill-color);\n",
              "    }\n",
              "  }\n",
              "</style>\n",
              "\n",
              "  <script>\n",
              "    async function quickchart(key) {\n",
              "      const quickchartButtonEl =\n",
              "        document.querySelector('#' + key + ' button');\n",
              "      quickchartButtonEl.disabled = true;  // To prevent multiple clicks.\n",
              "      quickchartButtonEl.classList.add('colab-df-spinner');\n",
              "      try {\n",
              "        const charts = await google.colab.kernel.invokeFunction(\n",
              "            'suggestCharts', [key], {});\n",
              "      } catch (error) {\n",
              "        console.error('Error during call to suggestCharts:', error);\n",
              "      }\n",
              "      quickchartButtonEl.classList.remove('colab-df-spinner');\n",
              "      quickchartButtonEl.classList.add('colab-df-quickchart-complete');\n",
              "    }\n",
              "    (() => {\n",
              "      let quickchartButtonEl =\n",
              "        document.querySelector('#df-2af1b329-3904-417d-b8c4-91c7e8ddc387 button');\n",
              "      quickchartButtonEl.style.display =\n",
              "        google.colab.kernel.accessAllowed ? 'block' : 'none';\n",
              "    })();\n",
              "  </script>\n",
              "</div>\n",
              "\n",
              "  <div id=\"id_83f80855-f913-495d-9cc6-aebaf559df43\">\n",
              "    <style>\n",
              "      .colab-df-generate {\n",
              "        background-color: #E8F0FE;\n",
              "        border: none;\n",
              "        border-radius: 50%;\n",
              "        cursor: pointer;\n",
              "        display: none;\n",
              "        fill: #1967D2;\n",
              "        height: 32px;\n",
              "        padding: 0 0 0 0;\n",
              "        width: 32px;\n",
              "      }\n",
              "\n",
              "      .colab-df-generate:hover {\n",
              "        background-color: #E2EBFA;\n",
              "        box-shadow: 0px 1px 2px rgba(60, 64, 67, 0.3), 0px 1px 3px 1px rgba(60, 64, 67, 0.15);\n",
              "        fill: #174EA6;\n",
              "      }\n",
              "\n",
              "      [theme=dark] .colab-df-generate {\n",
              "        background-color: #3B4455;\n",
              "        fill: #D2E3FC;\n",
              "      }\n",
              "\n",
              "      [theme=dark] .colab-df-generate:hover {\n",
              "        background-color: #434B5C;\n",
              "        box-shadow: 0px 1px 3px 1px rgba(0, 0, 0, 0.15);\n",
              "        filter: drop-shadow(0px 1px 2px rgba(0, 0, 0, 0.3));\n",
              "        fill: #FFFFFF;\n",
              "      }\n",
              "    </style>\n",
              "    <button class=\"colab-df-generate\" onclick=\"generateWithVariable('c')\"\n",
              "            title=\"Generate code using this dataframe.\"\n",
              "            style=\"display:none;\">\n",
              "\n",
              "  <svg xmlns=\"http://www.w3.org/2000/svg\" height=\"24px\"viewBox=\"0 0 24 24\"\n",
              "       width=\"24px\">\n",
              "    <path d=\"M7,19H8.4L18.45,9,17,7.55,7,17.6ZM5,21V16.75L18.45,3.32a2,2,0,0,1,2.83,0l1.4,1.43a1.91,1.91,0,0,1,.58,1.4,1.91,1.91,0,0,1-.58,1.4L9.25,21ZM18.45,9,17,7.55Zm-12,3A5.31,5.31,0,0,0,4.9,8.1,5.31,5.31,0,0,0,1,6.5,5.31,5.31,0,0,0,4.9,4.9,5.31,5.31,0,0,0,6.5,1,5.31,5.31,0,0,0,8.1,4.9,5.31,5.31,0,0,0,12,6.5,5.46,5.46,0,0,0,6.5,12Z\"/>\n",
              "  </svg>\n",
              "    </button>\n",
              "    <script>\n",
              "      (() => {\n",
              "      const buttonEl =\n",
              "        document.querySelector('#id_83f80855-f913-495d-9cc6-aebaf559df43 button.colab-df-generate');\n",
              "      buttonEl.style.display =\n",
              "        google.colab.kernel.accessAllowed ? 'block' : 'none';\n",
              "\n",
              "      buttonEl.onclick = () => {\n",
              "        google.colab.notebook.generateWithVariable('c');\n",
              "      }\n",
              "      })();\n",
              "    </script>\n",
              "  </div>\n",
              "\n",
              "    </div>\n",
              "  </div>\n"
            ],
            "application/vnd.google.colaboratory.intrinsic+json": {
              "type": "dataframe",
              "variable_name": "c",
              "summary": "{\n  \"name\": \"c\",\n  \"rows\": 147,\n  \"fields\": [\n    {\n      \"column\": \"abc\",\n      \"properties\": {\n        \"dtype\": \"string\",\n        \"num_unique_values\": 147,\n        \"samples\": [\n          \"bctech2136 https//insightsblackcoffercom/lipsync-automation-for-celebrities-and-influencers/\",\n          \"bctech2062 https//insightsblackcoffercom/an-etl-solution-for-an-internet-publishing-firm/\",\n          \"bctech2149 https//insightsblackcoffercom/data-etl-local-service-ads-leads-to-bigquery/\"\n        ],\n        \"semantic_type\": \"\",\n        \"description\": \"\"\n      }\n    }\n  ]\n}"
            }
          },
          "metadata": {},
          "execution_count": 131
        }
      ]
    },
    {
      "cell_type": "code",
      "source": [
        "positive = pd.read_table(\"/content/drive/MyDrive/positive-words.txt\", header=None, encoding=\"utf-8\")\n",
        "negative = pd.read_table(\"/content/drive/MyDrive/negative-words.txt\", header=None, encoding=\"ISO-8859-1\")"
      ],
      "metadata": {
        "id": "JEqC0PCZ-DrN"
      },
      "execution_count": 134,
      "outputs": []
    },
    {
      "cell_type": "code",
      "source": [
        "positive = pd.DataFrame({'abc': [1, 2, 3]})\n",
        "negative = pd.DataFrame({'abc': [4, 5, 6]})\n",
        "\n",
        "# now you can modify the columns\n",
        "positive.columns = ['abc']\n",
        "negative.columns = ['abc']\n",
        "\n",
        "positive['abc'] = positive['abc'].astype(str)\n",
        "negative['abc'] = negative['abc'].astype(str)"
      ],
      "metadata": {
        "id": "_H4RGKOhAwcx"
      },
      "execution_count": 135,
      "outputs": []
    },
    {
      "cell_type": "code",
      "source": [
        "import nltk\n",
        "\n",
        "def text_process(text):\n",
        "    return nltk.word_tokenize(text)\n",
        "\n",
        "positive['abc'] = positive['abc'].apply(text_process)\n",
        "negative['abc'] = negative['abc'].apply(text_process)"
      ],
      "metadata": {
        "id": "Q44AF8P5BB8X"
      },
      "execution_count": 136,
      "outputs": []
    },
    {
      "cell_type": "code",
      "source": [
        "import string\n",
        "\n",
        "length = positive.shape[0]\n",
        "post = []\n",
        "\n",
        "for i in range(0, length):\n",
        "    text = positive.iloc[i]['abc']  # select the 'abc' column\n",
        "    nopunc = [char for char in text if char not in string.punctuation or char != '+']\n",
        "    nopunc = ''.join(nopunc)\n",
        "    post.append(nopunc)"
      ],
      "metadata": {
        "id": "RDFXx7GABXAt"
      },
      "execution_count": 137,
      "outputs": []
    },
    {
      "cell_type": "code",
      "source": [
        "length = negative.shape[0]\n",
        "neg = []\n",
        "\n",
        "for i in range(0, length):\n",
        "    text = negative.iloc[i]['abc']  # select the 'abc' column\n",
        "    nopunc = [char for char in text if char not in string.punctuation or char != '+']\n",
        "    nopunc = ''.join(nopunc)\n",
        "    neg.append(nopunc)"
      ],
      "metadata": {
        "id": "RKE8ivMsBj3p"
      },
      "execution_count": 138,
      "outputs": []
    },
    {
      "cell_type": "code",
      "source": [
        "from nltk.tokenize import word_tokenize\n"
      ],
      "metadata": {
        "id": "hWEd0PDTB_-K"
      },
      "execution_count": 139,
      "outputs": []
    },
    {
      "cell_type": "code",
      "source": [
        "txt_list=[]\n",
        "length=c.shape[0]\n",
        "for i in range(0,length):\n",
        "  txt=' '.join([word for word in c.iloc[i]])\n",
        "  txt_list.append(txt)"
      ],
      "metadata": {
        "id": "-rR_Y2_rCC55"
      },
      "execution_count": 140,
      "outputs": []
    },
    {
      "cell_type": "code",
      "source": [
        "\n",
        "tokenize_text=[]\n",
        "for i in txt_list:\n",
        "\n",
        "  tokenize_text+=(word_tokenize(i))"
      ],
      "metadata": {
        "id": "lUgs5Hl2CFoW"
      },
      "execution_count": 141,
      "outputs": []
    },
    {
      "cell_type": "code",
      "source": [
        "\n",
        "print(tokenize_text)\n",
        ""
      ],
      "metadata": {
        "colab": {
          "base_uri": "https://localhost:8080/"
        },
        "id": "i9g61P-cCQR1",
        "outputId": "21b9ba1f-477b-453a-df8c-4a9eca9d2cd6"
      },
      "execution_count": 142,
      "outputs": [
        {
          "output_type": "stream",
          "name": "stdout",
          "text": [
            "['bctech2011', 'https//insightsblackcoffercom/ml-and-ai-based-insurance-premium-model-to-predict-premium-to-be-charged-by-the-insurance-company/', 'bctech2012', 'https//insightsblackcoffercom/streamlined-integration-interactive-brokers-api-with-python-for-desktop-trading-application/', 'bctech2013', 'https//insightsblackcoffercom/efficient-data-integration-and-user-friendly-interface-development-navigating-challenges-in-web-application-deployment/', 'bctech2014', 'https//insightsblackcoffercom/effective-management-of-social-media-data-extraction-strategies-for-authentication-security-and-reliability/', 'bctech2015', 'https//insightsblackcoffercom/streamlined-trading-operations-interface-for-metatrader-4-empowering-efficient-management-and-monitoring/', 'bctech2016', 'https//insightsblackcoffercom/efficient-aws-infrastructure-setup-and-management-addressing-security-scalability-and-compliance/', 'bctech2017', 'https//insightsblackcoffercom/streamlined-equity-waterfall-calculation-and-deal-management-system/', 'bctech2018', 'https//insightsblackcoffercom/automated-orthopedic-case-report-generation-harnessing-web-scraping-and-ai-integration/', 'bctech2019', 'https//insightsblackcoffercom/streamlining-time-calculation-in-warehouse-management-leveraging-shiphero-api-and-google-bigquery-integration/', 'bctech2020', 'https//insightsblackcoffercom/efficient-database-design-and-management-streamlining-access-and-integration-for-partner-entity-management/', 'bctech2021', 'https//insightsblackcoffercom/automated-campaign-management-system-a-comprehensive-solution-with-linkedin-and-email-integration/', 'bctech2022', 'https//insightsblackcoffercom/ai-driven-data-analysis-ai-tool-using-langchain-for-a-leading-real-estate-and-financing-firm-worldwide/', 'bctech2023', 'https//insightsblackcoffercom/grafana-dashboard-to-visualize-and-analyze-sensors-data/', 'bctech2024', 'https//insightsblackcoffercom/mvp-for-a-software-that-analyses-content-from-audio-pharma-based/', 'bctech2025', 'https//insightsblackcoffercom/data-engineering-and-management-tool-airbyte-with-custom-data-connectors-to-manage-crm-database/', 'bctech2026', 'https//insightsblackcoffercom/text-summarizing-tool-to-scrape-and-summarize-pubmed-medical-papers/', 'bctech2027', 'https//insightsblackcoffercom/7up7down-10updown-snakes-and-ladder-games-built-using-oops/', 'bctech2028', 'https//insightsblackcoffercom/data-studio-dashboard-with-a-data-pipeline-tool-synced-with-podio-using-custom-webhooks-and-google-cloud-function/', 'bctech2029', 'https//insightsblackcoffercom/end-to-end-tool-to-optimize-routing-and-planning-of-field-engineers-using-googles-cvrp-tw-algorithm/', 'bctech2030', 'https//insightsblackcoffercom/end-to-end-tool-to-predict-biofuel-prices-using-ieso-data/', 'bctech2031', 'https//insightsblackcoffercom/etl-discovery-tool-using-llma-langchain-openai/', 'bctech2032', 'https//insightsblackcoffercom/gpt-ocr-api/', 'bctech2033', 'https//insightsblackcoffercom/dockerize-the-aws-lambda-for-serverless-architecture/', 'bctech2034', 'https//insightsblackcoffercom/design-and-develop-a-product-recommendation-engine-based-on-the-features-of-products/', 'bctech2035', 'https//insightsblackcoffercom/database-discovery-tool-using-openai/', 'bctech2036', 'https//insightsblackcoffercom/automate-the-data-management-process/', 'bctech2037', 'https//insightsblackcoffercom/realtime-kibana-dashboard-for-a-financial-tech-firm/', 'bctech2038', 'https//insightsblackcoffercom/data-management-etl-and-data-automation/', 'bctech2039', 'https//insightsblackcoffercom/data-management-egeas/', 'bctech2040', 'https//insightsblackcoffercom/design-and-develop-powershell-script/', 'bctech2041', 'https//insightsblackcoffercom/design-and-develop-jenkins-shared-library/', 'bctech2042', 'https//insightsblackcoffercom/design-and-develop-retool-app-for-wholecell-io-and-asana-data-using-their-apis/', 'bctech2043', 'https//insightsblackcoffercom/design-and-develop-a-retool-app-that-will-show-stock-and-crypto-related-information-using-iex-api/', 'bctech2044', 'https//insightsblackcoffercom/crm-monday-com-make-com-to-data-warehouse-to-klipfolio-dashboard/', 'bctech2045', 'https//insightsblackcoffercom/ner-task-using-bert-with-data-in-xml-format/', 'bctech2046', 'https//insightsblackcoffercom/qualtrics-api-integration-using-python/', 'bctech2047', 'https//insightsblackcoffercom/design-and-develop-mlops-framework-for-data-centric-ai/', 'bctech2048', 'https//insightsblackcoffercom/nlp-based-approach-for-data-transformation/', 'bctech2049', 'https//insightsblackcoffercom/an-etl-tool-to-pull-data-from-shiphero-to-google-bigquery-data-warehouse/', 'bctech2050', 'https//insightsblackcoffercom/plaid-financial-analytics-a-data-driven-dashboard-to-generate-insights/', 'bctech2051', 'https//insightsblackcoffercom/recommendation-engine-for-insurance-sector-to-expand-business-in-the-rural-area/', 'bctech2052', 'https//insightsblackcoffercom/data-from-crm-via-zapier-to-google-sheets-dynamic-to-powerbi/', 'bctech2053', 'https//insightsblackcoffercom/data-warehouse-to-google-data-studio-looker-dashboard/', 'bctech2054', 'https//insightsblackcoffercom/crm-monday-com-via-zapier-to-power-bi-dashboard/', 'bctech2055', 'https//insightsblackcoffercom/monday-com-to-kpi-dashboard-to-manage-view-and-generate-insights-from-the-crm-data/', 'bctech2056', 'https//insightsblackcoffercom/data-management-for-a-political-saas-application/', 'bctech2057', 'https//insightsblackcoffercom/google-lsa-ads-google-local-service-ads-etl-tools-and-dashboards/', 'bctech2058', 'https//insightsblackcoffercom/ad-networks-marketing-campaign-data-dashboard-in-looker-google-data-studio/', 'bctech2059', 'https//insightsblackcoffercom/analytical-solution-for-a-tech-firm/', 'bctech2060', 'https//insightsblackcoffercom/ai-solution-for-a-technology-information-and-internet-firm/', 'bctech2061', 'https//insightsblackcoffercom/ai-and-nlp-based-solutions-to-automate-data-discovery-for-venture-capital-and-private-equity-principals/', 'bctech2062', 'https//insightsblackcoffercom/an-etl-solution-for-an-internet-publishing-firm/', 'bctech2063', 'https//insightsblackcoffercom/ai-based-algorithmic-trading-bot-for-forex/', 'bctech2064', 'https//insightsblackcoffercom/equity-waterfalls-model-based-saas-application-for-real-estate-sector/', 'bctech2065', 'https//insightsblackcoffercom/ai-solutions-for-foreign-exchange-an-automated-algo-trading-tool/', 'bctech2066', 'https//insightsblackcoffercom/ai-agent-development-and-deployment-in-jina-ai/', 'bctech2067', 'https//insightsblackcoffercom/golden-record-a-knowledge-graph-database-approach-to-unfold-discovery-using-neo4j/', 'bctech2068', 'https//insightsblackcoffercom/advanced-ai-for-trading-automation/', 'bctech2069', 'https//insightsblackcoffercom/create-a-knowledge-graph-to-provide-real-time-analytics-recommendations-and-a-single-source-of-truth/', 'bctech2070', 'https//insightsblackcoffercom/advanced-ai-for-thermal-person-detection/', 'bctech2071', 'https//insightsblackcoffercom/advanced-ai-for-road-cam-threat-detection/', 'bctech2072', 'https//insightsblackcoffercom/advanced-ai-for-pedestrian-crossing-safety/', 'bctech2073', 'https//insightsblackcoffercom/handgun-detection-using-yolo/', 'bctech2074', 'https//insightsblackcoffercom/using-graph-technology-to-create-single-customer-view/', 'bctech2075', 'https//insightsblackcoffercom/car-detection-in-satellite-images/', 'bctech2076', 'https//insightsblackcoffercom/building-a-physics-informed-neural-network-for-circuit-evaluation/', 'bctech2077', 'https//insightsblackcoffercom/connecting-mongodb-database-to-power-bi-dashboard-dashboard-automation/', 'bctech2078', 'https//insightsblackcoffercom/data-transformation/', 'bctech2079', 'https//insightsblackcoffercom/e-commerce-store-analysis-purchase-behavior-ad-spend-conversion-traffic-etc/', 'bctech2080', 'https//insightsblackcoffercom/kpi-dashboard-for-accountants/', 'bctech2081', 'https//insightsblackcoffercom/return-on-advertising-spend-dashboard-marketing-automation-and-analytics-using-etl-and-dashboard/', 'bctech2082', 'https//insightsblackcoffercom/ranking-customer-behaviours-for-business-strategy/', 'bctech2083', 'https//insightsblackcoffercom/algorithmic-trading-for-multiple-commodities-markets-like-forex-metals-energy-etc/', 'bctech2084', 'https//insightsblackcoffercom/trading-bot-for-forex/', 'bctech2085', 'https//insightsblackcoffercom/python-model-for-the-analysis-of-sector-specific-stock-etfs-for-investment-purposes', '%', 'ef', '%', 'bf', '%', 'bc/', 'bctech2086', 'https//insightsblackcoffercom/medical-classification/', 'bctech2087', 'https//insightsblackcoffercom/design-develop-bert-question-answering-model-explanations-with-visualization/', 'bctech2088', 'https//insightsblackcoffercom/design-and-develop-solution-to-anomaly-detection-classification-problems/', 'bctech2089', 'https//insightsblackcoffercom/an-etl-solution-for-currency-data-to-google-big-query/', 'bctech2090', 'https//insightsblackcoffercom/etl-and-mlops-infrastructure-for-blockchain-analytics/', 'bctech2091', 'https//insightsblackcoffercom/an-agent-based-model-of-a-virtual-power-plant-vpp/', 'bctech2092', 'https//insightsblackcoffercom/transform-api-into-sdk-library-and-widget/', 'bctech2093', 'https//insightsblackcoffercom/integration-of-a-product-to-a-cloud-based-crm-platform/', 'bctech2094', 'https//insightsblackcoffercom/a-web-based-dashboard-for-the-filtered-data-retrieval-of-land-records/', 'bctech2095', 'https//insightsblackcoffercom/integration-of-video-conferencing-data-to-the-existing-web-app/', 'bctech2096', 'https//insightsblackcoffercom/design-develop-an-app-in-retool-which-shows-the-progress-of-the-added-video/', 'bctech2097', 'https//insightsblackcoffercom/auvik-connectwise-integration-in-grafana/', 'bctech2098', 'https//insightsblackcoffercom/data-integration-and-big-data-performance-using-elk-stack/', 'bctech2099', 'https//insightsblackcoffercom/web-data-connector/', 'bctech2100', 'https//insightsblackcoffercom/an-app-for-updating-the-email-id-of-the-user-and-stripe-refund-tool-using-retool/', 'bctech2101', 'https//insightsblackcoffercom/an-ai-ml-based-web-application-that-detects-the-correctness-of-text-in-a-given-video/', 'bctech2102', 'https//insightsblackcoffercom/website-tracking-and-insights-using-google-analytics-google-tag-manager/', 'bctech2103', 'https//insightsblackcoffercom/dashboard-to-track-the-analytics-of-the-website-using-google-analytics-and-google-tag-manager/', 'bctech2104', 'https//insightsblackcoffercom/power-bi-dashboard-on-operations-transactions-and-marketing-embedding-the-dashboard-to-web-app/', 'bctech2105', 'https//insightsblackcoffercom/nft-data-automation-looksrare-and-etl-tool/', 'bctech2106', 'https//insightsblackcoffercom/optimize-the-data-scraper-program-to-easily-accommodate-large-files-and-solve-oom-errors/', 'bctech2107', 'https//insightsblackcoffercom/making-a-robust-way-to-sync-data-from-airtables-to-mongodb-using-python-etl-solution/', 'bctech2108', 'https//insightsblackcoffercom/incident-duration-prediction-infrastructure-and-real-estate/', 'bctech2109', 'https//insightsblackcoffercom/statistical-data-analysis-of-reinforced-concrete/', 'bctech2110', 'https//insightsblackcoffercom/database-normalization-segmentation-with-google-data-studio-dashboard-insights/', 'bctech2111', 'https//insightsblackcoffercom/power-bi-dashboard-to-drive-insights-from-complex-data-to-generate-business-insights/', 'bctech2112', 'https//insightsblackcoffercom/real-time-dashboard-to-monitor-infrastructure-activity-and-machines/', 'bctech2113', 'https//insightsblackcoffercom/electric-vehicles-ev-load-management-system-to-forecast-energy-demand/', 'bctech2114', 'https//insightsblackcoffercom/power-bi-data-driven-map-dashboard/', 'bctech2115', 'https//insightsblackcoffercom/google-local-service-ads-lsa-leads-dashboard/', 'bctech2116', 'https//insightsblackcoffercom/aws-lex-voice-and-chatbot/', 'bctech2117', 'https//insightsblackcoffercom/metabridges-api-decentraland-integration/', 'bctech2118', 'https//insightsblackcoffercom/microsoft-azure-chatbot-with-luis-language-understanding/', 'bctech2119', 'https//insightsblackcoffercom/impact-of-news-media-and-press-on-innovation-startups-and-investments/', 'bctech2120', 'https//insightsblackcoffercom/aws-quicksight-reporting-dashboard/', 'bctech2121', 'https//insightsblackcoffercom/google-data-studio-dashboard-for-marketing-ads-and-traction-data/', 'bctech2122', 'https//insightsblackcoffercom/gangala-in-e-commerce-big-data-etl-elt-solution-and-data-warehouse/', 'bctech2123', 'https//insightsblackcoffercom/big-data-solution-to-an-online-multivendor-marketplace-ecommerce-business/', 'bctech2124', 'https//insightsblackcoffercom/creating-a-custom-report-and-dashboard-using-the-data-got-from-atera-api/', 'bctech2125', 'https//insightsblackcoffercom/azure-data-lake-and-power-bi-dashboard/', 'bctech2126', 'https//insightsblackcoffercom/google-data-studio-pipeline-with-gcp-mysql/', 'bctech2127', 'https//insightsblackcoffercom/quickbooks-dashboard-to-find-patterns-in-finance-sales-and-forecasts/', 'bctech2128', 'https//insightsblackcoffercom/marketing-sales-and-financial-data-business-dashboard-wink-report/', 'bctech2129', 'https//insightsblackcoffercom/react-native-apps-in-the-development-portfolio/', 'bctech2130', 'https//insightsblackcoffercom/a-leading-firm-website-seo-optimization/', 'bctech2131', 'https//insightsblackcoffercom/a-leading-hospitality-firm-in-the-usa-website-seo-optimization/', 'bctech2132', 'https//insightsblackcoffercom/a-leading-firm-in-the-usa-website-seo-optimization/', 'bctech2133', 'https//insightsblackcoffercom/a-leading-musical-instrumental-website-seo-optimization/', 'bctech2134', 'https//insightsblackcoffercom/a-leading-firm-in-the-usa-seo-and-website-optimization/', 'bctech2135', 'https//insightsblackcoffercom/immigration-datawarehouse-ai-based-recommendations/', 'bctech2136', 'https//insightsblackcoffercom/lipsync-automation-for-celebrities-and-influencers/', 'bctech2137', 'https//insightsblackcoffercom/key-audit-matters-predictive-modeling/', 'bctech2138', 'https//insightsblackcoffercom/splitting-of-songs-into-its-vocals-and-instrumental/', 'bctech2139', 'https//insightsblackcoffercom/ai-and-ml-technologies-to-evaluate-learning-assessments/', 'bctech2140', 'https//insightsblackcoffercom/datawarehouse-and-recommendations-engine-for-airbnb/', 'bctech2141', 'https//insightsblackcoffercom/real-estate-data-warehouse/', 'bctech2142', 'https//insightsblackcoffercom/traction-dashboards-of-marketing-campaigns-and-posts/', 'bctech2143', 'https//insightsblackcoffercom/google-local-service-ads-lsa-data-warehouse/', 'bctech2144', 'https//insightsblackcoffercom/google-local-service-ads-missed-calls-and-messages-automation-tool/', 'bctech2145', 'https//insightsblackcoffercom/marketing-ads-leads-call-status-data-tool-to-bigquery/', 'bctech2146', 'https//insightsblackcoffercom/marketing-analytics-to-automate-leads-call-status-and-reporting/', 'bctech2147', 'https//insightsblackcoffercom/callrail-analytics-leads-report-alert/', 'bctech2148', 'https//insightsblackcoffercom/marketing-automation-tool-to-notify-lead-details-to-clients-over-email-and-phone/', 'bctech2149', 'https//insightsblackcoffercom/data-etl-local-service-ads-leads-to-bigquery/', 'bctech2150', 'https//insightsblackcoffercom/marbles-stimulation-using-python/', 'bctech2151', 'https//insightsblackcoffercom/stocktwits-data-structurization/', 'bctech2152', 'https//insightsblackcoffercom/sentimental-analysis-on-shareholder-letter-of-companies/', 'bctech2153', 'https//insightsblackcoffercom/population-and-community-survey-of-america/', 'bctech2154', 'https//insightsblackcoffercom/google-lsa-api-data-automation-and-dashboarding/', 'bctech2155', 'https//insightsblackcoffercom/healthcare-data-analysis/', 'bctech2156', 'https//insightsblackcoffercom/budget-sales-kpi-dashboard-using-power-bi/', 'bctech2157', 'https//insightsblackcoffercom/amazon-buy-bot-an-automation-ai-tool-to-auto-checkouts/']\n"
          ]
        }
      ]
    },
    {
      "cell_type": "code",
      "source": [
        "len(tokenize_text)"
      ],
      "metadata": {
        "colab": {
          "base_uri": "https://localhost:8080/"
        },
        "id": "5VebX9QRCTtC",
        "outputId": "fcf35c0c-bc4c-4668-9aaf-7500845ead47"
      },
      "execution_count": 143,
      "outputs": [
        {
          "output_type": "execute_result",
          "data": {
            "text/plain": [
              "300"
            ]
          },
          "metadata": {},
          "execution_count": 143
        }
      ]
    },
    {
      "cell_type": "markdown",
      "source": [
        "### **1) POSITIVE SCORE**"
      ],
      "metadata": {
        "id": "Ji7RxDDnCcLA"
      }
    },
    {
      "cell_type": "code",
      "source": [
        "positive_score=0\n",
        "for i in tokenize_text:\n",
        "  if(i.lower() in post):\n",
        "    positive_score+=1\n",
        "print('postive score=', positive_score)"
      ],
      "metadata": {
        "colab": {
          "base_uri": "https://localhost:8080/"
        },
        "id": "1hAopmoxCeaZ",
        "outputId": "29674094-734b-42f1-dbef-e41e19349a63"
      },
      "execution_count": 144,
      "outputs": [
        {
          "output_type": "stream",
          "name": "stdout",
          "text": [
            "postive score= 0\n"
          ]
        }
      ]
    },
    {
      "cell_type": "code",
      "source": [
        "negative_score=0\n",
        "for i in tokenize_text:\n",
        "  if(i.lower() in neg):\n",
        "    negative_score+=1\n",
        "print('negative score=', negative_score)\n",
        ""
      ],
      "metadata": {
        "colab": {
          "base_uri": "https://localhost:8080/"
        },
        "id": "wrZoYV9uCh6T",
        "outputId": "ff9fa146-ed91-431f-b8e2-bc631832bb5c"
      },
      "execution_count": 145,
      "outputs": [
        {
          "output_type": "stream",
          "name": "stdout",
          "text": [
            "negative score= 0\n"
          ]
        }
      ]
    },
    {
      "cell_type": "code",
      "source": [
        "Polarity_Score=(positive_score-negative_score)/((positive_score+negative_score)+0.000001)\n",
        "print('polarity_score=', Polarity_Score)"
      ],
      "metadata": {
        "colab": {
          "base_uri": "https://localhost:8080/"
        },
        "id": "y5-1ZaNZCr2l",
        "outputId": "836714cd-c57e-4945-bff6-b969a5ceb9df"
      },
      "execution_count": 146,
      "outputs": [
        {
          "output_type": "stream",
          "name": "stdout",
          "text": [
            "polarity_score= 0.0\n"
          ]
        }
      ]
    },
    {
      "cell_type": "code",
      "source": [
        "subjectiivity_score=(positive_score-negative_score)/((len(tokenize_text))+ 0.000001)\n",
        "print('subjectivity_score',subjectiivity_score)"
      ],
      "metadata": {
        "colab": {
          "base_uri": "https://localhost:8080/"
        },
        "id": "23ZqhxIACven",
        "outputId": "03229935-173c-466d-b24d-786386ca9bbc"
      },
      "execution_count": 147,
      "outputs": [
        {
          "output_type": "stream",
          "name": "stdout",
          "text": [
            "subjectivity_score 0.0\n"
          ]
        }
      ]
    },
    {
      "cell_type": "code",
      "source": [
        "length=c.shape[0]\n",
        "avg_length=[]\n",
        "for i in range(0,length):\n",
        "  avg_length.append(len(c['abc'].iloc[i]))\n",
        "avg_senetence_length=sum(avg_length)/len(avg_length)\n",
        "print('avg sentence length=', avg_senetence_length)"
      ],
      "metadata": {
        "colab": {
          "base_uri": "https://localhost:8080/"
        },
        "id": "tjJMNL3rC2cg",
        "outputId": "cb694e3b-39d1-4dc1-e87b-738ef24018ce"
      },
      "execution_count": 148,
      "outputs": [
        {
          "output_type": "stream",
          "name": "stdout",
          "text": [
            "avg sentence length= 101.73469387755102\n"
          ]
        }
      ]
    },
    {
      "cell_type": "markdown",
      "source": [
        "### **6) PERCENTAGE OF COMPLEX WORDS**"
      ],
      "metadata": {
        "id": "T-T1ID4vC7ME"
      }
    },
    {
      "cell_type": "code",
      "source": [
        "vowels=['a','e','i','o','u']\n",
        "import re\n",
        "count=0\n",
        "complex_Word_Count=0\n",
        "for i in tokenize_text:\n",
        "  x=re.compile('[es|ed]$')\n",
        "  if x.match(i.lower()):\n",
        "   count+=0\n",
        "  else:\n",
        "    for j in i:\n",
        "      if(j.lower() in vowels ):\n",
        "        count+=1\n",
        "  if(count>2):\n",
        "   complex_Word_Count+=1\n",
        "  count=0"
      ],
      "metadata": {
        "id": "L4-vDDw_C87f"
      },
      "execution_count": 149,
      "outputs": []
    },
    {
      "cell_type": "code",
      "source": [
        "Percentage_of_Complex_words=complex_Word_Count/len(tokenize_text)\n",
        "print('percentag of complex words= ',Percentage_of_Complex_words)"
      ],
      "metadata": {
        "colab": {
          "base_uri": "https://localhost:8080/"
        },
        "id": "Z5XrBgGkDCPt",
        "outputId": "b223c18f-22cf-4c5f-c63a-15e6429104c6"
      },
      "execution_count": 150,
      "outputs": [
        {
          "output_type": "stream",
          "name": "stdout",
          "text": [
            "percentag of complex words=  0.49\n"
          ]
        }
      ]
    },
    {
      "cell_type": "markdown",
      "source": [
        "## 7) FOG INDEX\n"
      ],
      "metadata": {
        "id": "tA9iT45DDEEe"
      }
    },
    {
      "cell_type": "code",
      "source": [
        "#Fog Index = 0.4 * (Average Sentence Length + Percentage of Complex words)\n",
        "Fog_Index = 0.4 * (avg_senetence_length + Percentage_of_Complex_words)\n",
        "print('fog index= ',Fog_Index )"
      ],
      "metadata": {
        "colab": {
          "base_uri": "https://localhost:8080/"
        },
        "id": "fIBWU5bPDHAA",
        "outputId": "f667a5f0-4990-48c2-c0b5-6c224620ad26"
      },
      "execution_count": 151,
      "outputs": [
        {
          "output_type": "stream",
          "name": "stdout",
          "text": [
            "fog index=  40.88987755102041\n"
          ]
        }
      ]
    },
    {
      "cell_type": "markdown",
      "source": [
        "## **8) AVG NUMBER OF WORDS PER SENTENCE**"
      ],
      "metadata": {
        "id": "7JMoXEnoDMXn"
      }
    },
    {
      "cell_type": "code",
      "source": [
        "length=c.shape[0]\n",
        "avg_length=[]\n",
        "for i in range(0,length):\n",
        "  a=[word.split( ) for word in c.iloc[i]]\n",
        "  avg_length.append(len(a[0]))\n",
        "  a=0\n",
        "#avg\n",
        "avg_no_of_words_per_sentence=sum(avg_length)/length\n",
        "print(\"avg no of words per sentence= \",avg_no_of_words_per_sentence)"
      ],
      "metadata": {
        "colab": {
          "base_uri": "https://localhost:8080/"
        },
        "id": "ekUqWDWGDPhh",
        "outputId": "003843a2-17ea-4cb5-f6dd-7696bd5cfe29"
      },
      "execution_count": 152,
      "outputs": [
        {
          "output_type": "stream",
          "name": "stdout",
          "text": [
            "avg no of words per sentence=  2.0\n"
          ]
        }
      ]
    },
    {
      "cell_type": "markdown",
      "source": [
        "### **9) COMPLEX WORD COUNT**"
      ],
      "metadata": {
        "id": "fvdmR3cnDVYO"
      }
    },
    {
      "cell_type": "code",
      "source": [
        "vowels=['a','e','i','o','u']\n",
        "import re\n",
        "count=0\n",
        "complex_Word_Count=0\n",
        "for i in tokenize_text:\n",
        "  x=re.compile('[es|ed]$')\n",
        "  if x.match(i.lower()):\n",
        "   count+=0\n",
        "  else:\n",
        "    for j in i:\n",
        "      if(j.lower() in vowels ):\n",
        "        count+=1\n",
        "  if(count>2):\n",
        "   complex_Word_Count+=1\n",
        "  count=0\n",
        "print('complex words count=',  complex_Word_Count)"
      ],
      "metadata": {
        "colab": {
          "base_uri": "https://localhost:8080/"
        },
        "id": "o5sK2FzzDXQC",
        "outputId": "a2bc25ab-fcf2-4655-ca54-f574d879bb26"
      },
      "execution_count": 153,
      "outputs": [
        {
          "output_type": "stream",
          "name": "stdout",
          "text": [
            "complex words count= 147\n"
          ]
        }
      ]
    },
    {
      "cell_type": "markdown",
      "source": [
        "10) WORD COUNT"
      ],
      "metadata": {
        "id": "EOBabtLPDdAc"
      }
    },
    {
      "cell_type": "code",
      "source": [
        "word_count=len(tokenize_text)\n",
        "print('word count= ', word_count)\n",
        ""
      ],
      "metadata": {
        "colab": {
          "base_uri": "https://localhost:8080/"
        },
        "id": "SZZRMGuaDfu1",
        "outputId": "7b4d31c8-0020-48ad-a298-ef08a1d60621"
      },
      "execution_count": 154,
      "outputs": [
        {
          "output_type": "stream",
          "name": "stdout",
          "text": [
            "word count=  300\n"
          ]
        }
      ]
    },
    {
      "cell_type": "markdown",
      "source": [
        "## **11) SYLLABLE PER WORD**"
      ],
      "metadata": {
        "id": "Su5Nek_tDlGT"
      }
    },
    {
      "cell_type": "code",
      "source": [
        "vowels=['a','e','i','o','u']\n",
        "import re\n",
        "count=0\n",
        "for i in tokenize_text:\n",
        "  x=re.compile('[es|ed]$')\n",
        "  if x.match(i.lower()):\n",
        "   count+=0\n",
        "  else:\n",
        "    for j in i:\n",
        "      if(j.lower() in vowels ):\n",
        "        count+=1\n",
        "syllable_count=count\n",
        "print('syllable_per_word= ',syllable_count)"
      ],
      "metadata": {
        "colab": {
          "base_uri": "https://localhost:8080/"
        },
        "id": "xKSQOg3zDv2T",
        "outputId": "d027f796-1159-4d22-b07b-1cb27a8af9c0"
      },
      "execution_count": 155,
      "outputs": [
        {
          "output_type": "stream",
          "name": "stdout",
          "text": [
            "syllable_per_word=  4055\n"
          ]
        }
      ]
    },
    {
      "cell_type": "markdown",
      "source": [
        "## **12) PERSONAL PRONOUNS**"
      ],
      "metadata": {
        "id": "g29jhE-GD3-w"
      }
    },
    {
      "cell_type": "code",
      "source": [
        "pronouns=['i','we','my','ours','us' ]\n",
        "import re\n",
        "count=0\n",
        "for i in tokenize_text:\n",
        "  if i.lower() in pronouns:\n",
        "   count+=1\n",
        "personal_pronouns=count\n",
        "print('personal pronouns= ',personal_pronouns )"
      ],
      "metadata": {
        "colab": {
          "base_uri": "https://localhost:8080/"
        },
        "id": "sXbltvqLD8hz",
        "outputId": "52ffa26d-4ad8-499e-a765-31d7397c2f14"
      },
      "execution_count": 156,
      "outputs": [
        {
          "output_type": "stream",
          "name": "stdout",
          "text": [
            "personal pronouns=  0\n"
          ]
        }
      ]
    },
    {
      "cell_type": "markdown",
      "source": [
        "### **13) AVG WORD LENGTH**"
      ],
      "metadata": {
        "id": "3TI4RdFMEJlD"
      }
    },
    {
      "cell_type": "code",
      "source": [
        "count=0\n",
        "for i in tokenize_text:\n",
        "  for j in i:\n",
        "    count+=1\n",
        "avg_word_length=count/len(tokenize_text)\n",
        "print('avg word= ', avg_word_length)\n",
        ""
      ],
      "metadata": {
        "colab": {
          "base_uri": "https://localhost:8080/"
        },
        "id": "iwKia6u6ELdc",
        "outputId": "194a8261-83e2-4ef2-b60b-9452e9483862"
      },
      "execution_count": 157,
      "outputs": [
        {
          "output_type": "stream",
          "name": "stdout",
          "text": [
            "avg word=  49.36\n"
          ]
        }
      ]
    },
    {
      "cell_type": "code",
      "source": [
        "data={'positive_score':positive_score,'negative_score':negative_score,'Polarity_Score':Polarity_Score,'subjectiivity_score':subjectiivity_score,'avg_senetence_length':avg_senetence_length,'Percentage_of_Complex_words':Percentage_of_Complex_words,'Fog_Index':Fog_Index,'avg_no_of_words_per_sentence':avg_no_of_words_per_sentence,'complex_Word_Count':complex_Word_Count,'word_count':word_count,'syllable_count':syllable_count,'personal_pronouns':personal_pronouns,'avg_word_length':avg_word_length}\n"
      ],
      "metadata": {
        "id": "rgYuKRihG_zD"
      },
      "execution_count": 158,
      "outputs": []
    },
    {
      "cell_type": "code",
      "source": [
        "data.columns = ['positive_score','negative_score','Polarity_Score','subjectiivity_score','avg_senetence_length','Percentage_of_Complex_words','Fog_Index','avg_no_of_words_per_sentence','complex_Word_Count','word_count','syllable_count','personal_pronouns','avg_word_length']\n",
        "output = pd.DataFrame()\n",
        "output = output.append(data, ignore_index=True)"
      ],
      "metadata": {
        "id": "rnz3JcqTHHgg"
      },
      "execution_count": null,
      "outputs": []
    }
  ]
}